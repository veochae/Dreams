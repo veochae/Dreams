{
 "cells": [
  {
   "cell_type": "code",
   "execution_count": 103,
   "metadata": {},
   "outputs": [
    {
     "name": "stdout",
     "output_type": "stream",
     "text": [
      "/Users/veochae/Desktop/Dreams/data\n"
     ]
    }
   ],
   "source": [
    "import pandas as pd\n",
    "import numpy as np\n",
    "import os\n",
    "import glob\n",
    "from pathlib import Path\n",
    "import json\n",
    "import re\n",
    "from sklearn.feature_extraction.text import CountVectorizer\n",
    "from wordcloud import WordCloud,STOPWORDS\n",
    "import nltk\n",
    "from datetime import datetime, date\n",
    "import sys\n",
    "\n",
    "#check for current working path, and set the working path to the data folder\n",
    "\n",
    "print(Path.cwd())\n",
    "os.chdir('../data')"
   ]
  },
  {
   "cell_type": "code",
   "execution_count": 26,
   "metadata": {},
   "outputs": [],
   "source": [
    "df = pd.read_csv(\"./raw_data.csv\", index_col= 0)"
   ]
  },
  {
   "cell_type": "code",
   "execution_count": 27,
   "metadata": {},
   "outputs": [
    {
     "data": {
      "text/html": [
       "<div>\n",
       "<style scoped>\n",
       "    .dataframe tbody tr th:only-of-type {\n",
       "        vertical-align: middle;\n",
       "    }\n",
       "\n",
       "    .dataframe tbody tr th {\n",
       "        vertical-align: top;\n",
       "    }\n",
       "\n",
       "    .dataframe thead th {\n",
       "        text-align: right;\n",
       "    }\n",
       "</style>\n",
       "<table border=\"1\" class=\"dataframe\">\n",
       "  <thead>\n",
       "    <tr style=\"text-align: right;\">\n",
       "      <th></th>\n",
       "      <th>subreddit</th>\n",
       "      <th>title</th>\n",
       "      <th>text</th>\n",
       "      <th>date</th>\n",
       "    </tr>\n",
       "  </thead>\n",
       "  <tbody>\n",
       "    <tr>\n",
       "      <th>0</th>\n",
       "      <td>Dreams</td>\n",
       "      <td>I think it was my grandad</td>\n",
       "      <td>So, I  had this dream when I was a kid , age 9...</td>\n",
       "      <td>2023-02-05 21:13:41</td>\n",
       "    </tr>\n",
       "    <tr>\n",
       "      <th>1</th>\n",
       "      <td>Dreams</td>\n",
       "      <td>A nondescript blurry figure standing over me</td>\n",
       "      <td>Im laying in bed face up where a blurry unknow...</td>\n",
       "      <td>2023-02-05 20:58:10</td>\n",
       "    </tr>\n",
       "    <tr>\n",
       "      <th>2</th>\n",
       "      <td>Dreams</td>\n",
       "      <td>Dream my family hated me because I am disabled</td>\n",
       "      <td>I had this dream 3 nights ago and it still has...</td>\n",
       "      <td>2023-02-05 20:29:39</td>\n",
       "    </tr>\n",
       "    <tr>\n",
       "      <th>3</th>\n",
       "      <td>Dreams</td>\n",
       "      <td>Furry exhibitionists on a sidewalk</td>\n",
       "      <td>Oh my god it was awful.\\n\\nSo awful. \\n\\nI was...</td>\n",
       "      <td>2023-02-05 20:29:22</td>\n",
       "    </tr>\n",
       "    <tr>\n",
       "      <th>5</th>\n",
       "      <td>Dreams</td>\n",
       "      <td>I had deja vu 3 times last week</td>\n",
       "      <td>For context: I don’t dream often but when I do...</td>\n",
       "      <td>2023-02-05 20:02:04</td>\n",
       "    </tr>\n",
       "    <tr>\n",
       "      <th>...</th>\n",
       "      <td>...</td>\n",
       "      <td>...</td>\n",
       "      <td>...</td>\n",
       "      <td>...</td>\n",
       "    </tr>\n",
       "    <tr>\n",
       "      <th>982</th>\n",
       "      <td>Dreams</td>\n",
       "      <td>Several months ago I had reoccurring dreams ab...</td>\n",
       "      <td>&amp;amp;#x200B;\\n\\nhttps://preview.redd.it/8zi4ej...</td>\n",
       "      <td>2023-01-27 06:43:28</td>\n",
       "    </tr>\n",
       "    <tr>\n",
       "      <th>984</th>\n",
       "      <td>Dreams</td>\n",
       "      <td>Fudge Shop Dream</td>\n",
       "      <td>Today I dreamed about being at a large fudge s...</td>\n",
       "      <td>2023-01-27 06:18:24</td>\n",
       "    </tr>\n",
       "    <tr>\n",
       "      <th>985</th>\n",
       "      <td>Dreams</td>\n",
       "      <td>I killed a man that travelled through time</td>\n",
       "      <td>I was running around in a mansion trying to se...</td>\n",
       "      <td>2023-01-27 05:53:28</td>\n",
       "    </tr>\n",
       "    <tr>\n",
       "      <th>986</th>\n",
       "      <td>Dreams</td>\n",
       "      <td>Recurring dream</td>\n",
       "      <td>As the title says. It's a recurring dream, but...</td>\n",
       "      <td>2023-01-27 05:47:53</td>\n",
       "    </tr>\n",
       "    <tr>\n",
       "      <th>987</th>\n",
       "      <td>Dreams</td>\n",
       "      <td>I dreamt I am rooting for our Putinist leader</td>\n",
       "      <td>I felt a bit of shame as I agreed in the dream...</td>\n",
       "      <td>2023-01-27 05:45:35</td>\n",
       "    </tr>\n",
       "  </tbody>\n",
       "</table>\n",
       "<p>900 rows × 4 columns</p>\n",
       "</div>"
      ],
      "text/plain": [
       "    subreddit                                              title  \\\n",
       "0      Dreams                          I think it was my grandad   \n",
       "1      Dreams       A nondescript blurry figure standing over me   \n",
       "2      Dreams     Dream my family hated me because I am disabled   \n",
       "3      Dreams                 Furry exhibitionists on a sidewalk   \n",
       "5      Dreams                    I had deja vu 3 times last week   \n",
       "..        ...                                                ...   \n",
       "982    Dreams  Several months ago I had reoccurring dreams ab...   \n",
       "984    Dreams                                   Fudge Shop Dream   \n",
       "985    Dreams         I killed a man that travelled through time   \n",
       "986    Dreams                                    Recurring dream   \n",
       "987    Dreams      I dreamt I am rooting for our Putinist leader   \n",
       "\n",
       "                                                  text                date  \n",
       "0    So, I  had this dream when I was a kid , age 9... 2023-02-05 21:13:41  \n",
       "1    Im laying in bed face up where a blurry unknow... 2023-02-05 20:58:10  \n",
       "2    I had this dream 3 nights ago and it still has... 2023-02-05 20:29:39  \n",
       "3    Oh my god it was awful.\\n\\nSo awful. \\n\\nI was... 2023-02-05 20:29:22  \n",
       "5    For context: I don’t dream often but when I do... 2023-02-05 20:02:04  \n",
       "..                                                 ...                 ...  \n",
       "982  &amp;#x200B;\\n\\nhttps://preview.redd.it/8zi4ej... 2023-01-27 06:43:28  \n",
       "984  Today I dreamed about being at a large fudge s... 2023-01-27 06:18:24  \n",
       "985  I was running around in a mansion trying to se... 2023-01-27 05:53:28  \n",
       "986  As the title says. It's a recurring dream, but... 2023-01-27 05:47:53  \n",
       "987  I felt a bit of shame as I agreed in the dream... 2023-01-27 05:45:35  \n",
       "\n",
       "[900 rows x 4 columns]"
      ]
     },
     "execution_count": 27,
     "metadata": {},
     "output_type": "execute_result"
    }
   ],
   "source": [
    "df['date'] = [datetime.fromtimestamp(time) for time in df['date']]\n",
    "df= df.dropna()\n",
    "df"
   ]
  },
  {
   "cell_type": "code",
   "execution_count": 28,
   "metadata": {},
   "outputs": [
    {
     "data": {
      "text/plain": [
       "0      So, I  had this dream when I was a kid , age 9...\n",
       "1      Im laying in bed face up where a blurry unknow...\n",
       "2      I had this dream 3 nights ago and it still has...\n",
       "3      Oh my god it was awful.\\n\\nSo awful. \\n\\nI was...\n",
       "5      For context: I don’t dream often but when I do...\n",
       "                             ...                        \n",
       "982    &amp;#x200B;\\n\\nhttps://preview.redd.it/8zi4ej...\n",
       "984    Today I dreamed about being at a large fudge s...\n",
       "985    I was running around in a mansion trying to se...\n",
       "986    As the title says. It's a recurring dream, but...\n",
       "987    I felt a bit of shame as I agreed in the dream...\n",
       "Name: text, Length: 900, dtype: object"
      ]
     },
     "execution_count": 28,
     "metadata": {},
     "output_type": "execute_result"
    }
   ],
   "source": [
    "df['text']"
   ]
  },
  {
   "cell_type": "code",
   "execution_count": 123,
   "metadata": {},
   "outputs": [
    {
     "name": "stderr",
     "output_type": "stream",
     "text": [
      "[nltk_data] Downloading package stopwords to\n",
      "[nltk_data]     /Users/veochae/nltk_data...\n",
      "[nltk_data]   Package stopwords is already up-to-date!\n",
      "[nltk_data] Downloading package omw-1.4 to /Users/veochae/nltk_data...\n",
      "[nltk_data]   Package omw-1.4 is already up-to-date!\n"
     ]
    }
   ],
   "source": [
    "nltk.download('stopwords')\n",
    "nltk.download('omw-1.4')\n",
    "stopword = nltk.corpus.stopwords.words('english')\n",
    "ps = nltk.PorterStemmer()\n",
    "from nltk.stem.snowball import SnowballStemmer\n",
    "s_stemmer = SnowballStemmer(language='english')\n",
    "wn = nltk.WordNetLemmatizer()\n",
    "\n",
    "\n",
    "def clean(text):\n",
    "     # text = text.replace(',Äô', '\\'')\n",
    "     text = re.sub('https?://\\S+|www\\.\\S+', '', text)\n",
    "     text = re.sub(' +', ' ', text)\n",
    "     text = re.sub(r'\\s+', ' ', text, flags=re.I)\n",
    "     text = re.sub('\\[.*?\\]', '', text)\n",
    "     text = re.sub('\\n', '', text)\n",
    "     text = re.sub('\\w*\\d\\w*', '', text)\n",
    "     text = re.sub('<.*?>+', '', text)\n",
    "     text = re.sub('(?<=:)\\w-', '', text)\n",
    "     text = re.sub('(?<=@)\\w+', '', text)\n",
    "     text = re.sub('@', '', text)\n",
    "     text = re.sub(':', '', text)\n",
    "     text = re.sub('RT', '', text)\n",
    "     text = re.sub('_', \"\", text)\n",
    "     text = re.sub(\"&amp;#;\", \"\", text)\n",
    "     text = text.strip()\n",
    "     return text\n",
    "\n",
    "def tokenization(text):\n",
    "     text = re.split('\\W+', text)\n",
    "     return text\n",
    "\n",
    "def remove_stopwords(text):\n",
    "     text = [word for word in text if word not in stopword]\n",
    "     return text\n",
    "\n",
    "def stemming1(text):\n",
    "     text = [ps.stem(word) for word in text]\n",
    "     return text \n",
    "\n",
    "def stemming2(text):\n",
    "     text = [s_stemmer.stem(word) for word in text]\n",
    "     return text\n",
    "\n",
    "def lemmatizer(text):\n",
    "     text = [wn.lemmatize(word) for word in text]\n",
    "     return text\n",
    "\n",
    "def vectorization(li):\n",
    "    vectorizer = CountVectorizer()   \n",
    "    Xs = vectorizer.fit_transform(li)   \n",
    "    X = np.array(Xs.todense())\n",
    "    \n",
    "    return X\n",
    "\n",
    "def get_column_name(li):\n",
    "     vectorizer = CountVectorizer()   \n",
    "     Xs = vectorizer.fit_transform(li)   \n",
    "     col_names=vectorizer.get_feature_names_out()\n",
    "     col_names = list(col_names)\n",
    "\n",
    "     return col_names\n",
    "\n",
    "def extract_array(df):\n",
    "     clean_text = df['text'].apply(lambda x:clean(x))\n",
    "     tokenized = clean_text.apply(lambda x: tokenization(x.lower()))\n",
    "     clean_text = clean_text = tokenized.apply(lambda x: \" \".join(x))\n",
    "     print(\"Complete: text cleaning\")\n",
    "     print(\"Complete: tokenization\")\n",
    "     x_stopwords = tokenized.apply(lambda x: remove_stopwords(x))\n",
    "     print(\"Complete: stopwords removed\")\n",
    "     stem = x_stopwords.apply(lambda x: stemming1(x))\n",
    "     print(\"Complete: stemming 1\")\n",
    "     stem = stem.apply(lambda x: stemming2(x))\n",
    "     print(\"Complete: stemming 2\")\n",
    "     lemmatized = stem.apply(lambda x: lemmatizer(x))\n",
    "     print(\"Complete: lemmatization\")\n",
    "     complete = lemmatized.apply(lambda x: \" \".join(x))\n",
    "     mapx = vectorization(temp)\n",
    "     name = get_column_name(temp)\n",
    "     mapx = pd.DataFrame(mapx, columns = name)\n",
    "     mapx.columns = name\n",
    "     print(\"Complete: vectorization\")\n",
    "     print(\"All Done!\")\n",
    "\n",
    "     return clean_text, tokenized, x_stopwords, stem, lemmatized, complete, mapx"
   ]
  },
  {
   "cell_type": "code",
   "execution_count": 133,
   "metadata": {},
   "outputs": [
    {
     "name": "stdout",
     "output_type": "stream",
     "text": [
      "Complete: text cleaning\n",
      "Complete: tokenization\n",
      "Complete: stopwords removed\n",
      "Complete: stemming 1\n",
      "Complete: stemming 2\n",
      "Complete: lemmatization\n",
      "Complete: vectorization\n",
      "All Done!\n"
     ]
    }
   ],
   "source": [
    "clean_text, tokenized, x_stopwords, stem, lemmatized, complete, corpus = extract_array(df)"
   ]
  },
  {
   "cell_type": "code",
   "execution_count": 135,
   "metadata": {},
   "outputs": [],
   "source": [
    "titles = ['clean_text', 'tokenized', 'x_stopwords', 'stem', 'lemmatized', 'complete', 'corpus']\n",
    "\n",
    "for title in titles:\n",
    "    vars()[title].to_csv(f'./{title}.csv')"
   ]
  },
  {
   "cell_type": "code",
   "execution_count": 42,
   "metadata": {},
   "outputs": [],
   "source": [
    "corpus.to_csv(\"./corpus.csv\")"
   ]
  },
  {
   "cell_type": "code",
   "execution_count": 129,
   "metadata": {},
   "outputs": [],
   "source": [
    "dic = {\"clean_text\": clean_text,\n",
    "       \"tokenized\": tokenized}"
   ]
  },
  {
   "cell_type": "code",
   "execution_count": 132,
   "metadata": {},
   "outputs": [
    {
     "data": {
      "text/plain": [
       "0                                                                                                                                                                                                                                                                                                                                              so i had this dream when i was a kid age that has stuck with me my whole life i m and i think about it all the time my grandad lived next door but one to us and we were very close and the evening after he passed away i had a dream that i was looking out of my window and i saw him but he is getting into a spaceship and waving goodbye at me and i m so hyped up to my mum and dad like omg mum dad it s grandad look and they just fully was just so blaise about it like okay and i m looking at him and he said he has to go now and to be good it still brings a test to my eye now thinking about it i guess i want to believe it was my grandad because i wasn t allowed to his house to say goodbye because nobody wanted me to see him like that at the very end it was different when other loved ones have gone because i got to say goodbye has anybody else had a similar experience like i said i want to believe but i just can t fully commit to believe it was because of lack of evidence\n",
       "1                                                                                                                                                                                                                                                                                                                                                                                                                                                                                                                                                                                                                                                                                                                                   im laying in bed face up where a blurry unknown figure is standing on my torso towering high over me this person wasn t heavy felt like an easy this blurry face from way above me is downcast and says you are a very ugly man im gonna crush you this voice was a deep inhuman type with a hint of a growl but the figure was human yet without clear distinctiveness to help identify who is on me the person needed the wall to keep balance while this figure pump its feet on me up and down i was pinned down and helpless what are your thoughts i would like some feedback on this dream that is five years old now \n",
       "2                                                                                                                                                                                                                                                                                                                                                                                                                                             i had this dream nights ago and it still has me really shaken up i have a very obviously physical disability irl i ve had it since birth and have a large family with no other disabled people in the dream my mum my younger brother and i were on a bus they were sitting in the back together and i was in the front by myself the bus drove past someone on the street with the same disability as me and everyone including my family laughed at them at some point we got off the bus and i was upset at them for laughing and they were saying things like they have a right to laugh and that they hated me for how i am i was pretty much being kept in the family as a pet also there was a random unrelated thing in the dream that actually ended up happening irl the next day i guess i m looking for reassurance that this isn t based in reality because i ve always felt alienated from my family \n",
       "3                                                                                                                                                                                                                                                                                                                                                                                                                                                                                                                                                                                                                          oh my god it was awful so awful i was in this furry world as some type of woman furry that was never specified there was this cat woman laying on the sidewalk near my house and she was laying there just begging for some guy to fuck her i can t take her offer cuz i wouldn t be able to do it because i m not a man and i don t have a penis but as i m walking away this faceless guy furry just goes up to her and they start doing it on the sidewalk just fucking with cars passing by in broad daylight i m standing there watching the whole thing giggling and laughing watching the two do it at some point i just start masturbating by putting my hand in and it feels good then it just ends i will be killing myself \n",
       "5                                                                                                                                                                                                                                                                                                                                                                                                                                                                                                                                                              for context i don t dream often but when i do i always wake up thinking that was a little too real nothing scary just realistic yet odd situations that could happen in reality in these dreams i sometimes i have people in them who are only silhouettes i ve learnt through my experiences that if i haven t met this person yet they ll show up in my dreams as silhouettes like unlockable characters in a game sometimes the scene would be places i ve never been before until the deja vu strikes i experienced these dreams in reality last week on three separate occasions the same silhouettes now have faces things that happened in dreams came to this is the first time i ve had deja vu in ages but before last week i d have deja vu once in a blue moon what s happening to me \n",
       "                                                                                                                                                                                                                                                                                                                                                                                                                                                                                                                                                                                                                                                                                  ...                                                                                                                                                                                                                                                                                                                                                                                                                                                                                                                                                                                                                                                                            \n",
       "982                                                                                                                                                                                                                                                                                                                                                                                                                                                                                                                                                                                                                                                                                                                                                                                                                                                                                                                                                                                                                                                                                                                                                                                                                                                                                                                                                              \n",
       "984                                                                                                                                                                                                                                                  today i dreamed about being at a large fudge shop which sold many strange types of fudge i remember one type was tomato fudge which was tomato flavored fudge a lot of their fudge was also dirty and covered with dust or dirt i actually thought the shop was closed at first but then a girl came out of nowhere and asked me if i was going to buy some fudge then i saw a miniature cop like a really tiny police officer then i went to a diner i think and then i went to a bathroom and i saw a strange silhouette creature in the bathroom it literally looked like the actual shadow of a person on the wall and it was talking it could talk with a disembodied voice i forget what it said but i was accusing the creature of potentially being satan but i wasn t sure what it actually was the creature was apparently unable to swear it didn t have the ability to use curse words or fowl language for some reason i m not sure what it actually was but it listened to me and even did what i told it to do and was very responsive and cooperative it was interesting and then i woke up \n",
       "985                                                                                                                                                                                                                                                                                                                                                                                                                                                                                                                                                                                                                                                                                                                                                                                                                                                                                                                                                                                               i was running around in a mansion trying to set up traps for him and when he came he started teleporting around the place and avoiding the traps effortlessly then i noticed every time he would start to teleport he would pull out his pocket watch to skip through time i got close enough to slap the watch out of his hand and he just vanished into steam\n",
       "986    as the title says it s a recurring dream but some very slight details change from time to time such as faces vehicles etc the dream is always the same with slight changes i m driving down a road way and come up to a crowd of what looks like journalists looks to be in front of an airport as i approach they all swarm the vehicle one almost always gets the back right door of my car open barraging me with countless unintelligible questions i start to panick and start to drive off right after trying to escape the situation a car always pulls in front of me the exact same way trying to box me in i pull to t intersection where there s a cop sitting on the shoulder of the roadway but they don t move i cross the intersection in the car making a left hand turn at which time a small group that thinks i hurt the journalist starts chasing on foot in their cars usually the dream ends with hearing gunfire half the time hitting the cars chasing mr others i m being shot at the dream usually ends there with me waking up with an accelerated heart rate sorry if this is a bit jumbled confused and riddle with typos i just literally woke up from that same dream and figured i d come here and write it down while it s somewhat fresh in my mind as i only dream once or twice a week max and it s always this dream \n",
       "987                                                                                                                                                                                                                                                                                                                                                                                                                                                                                                                                                                                                                                                                                                                                                                                                                               i felt a bit of shame as i agreed in the dream with the wife of our leader they have mildly homophobic opinions i just feel awkward of course i know that we are ambivalent especially in dreams and i was invited in a foreign country and my host was a putinist with a bit of antigay ideas the dream included articles in papers on the topic kind of hinting at outmoded views but i did feel so good about being accepted by this kind woman the wife of our trumputinist leader just had a need to rant about it thanks \n",
       "Name: text, Length: 900, dtype: object"
      ]
     },
     "execution_count": 132,
     "metadata": {},
     "output_type": "execute_result"
    }
   ],
   "source": []
  }
 ],
 "metadata": {
  "kernelspec": {
   "display_name": "Python 3.10.4 ('ANLY501')",
   "language": "python",
   "name": "python3"
  },
  "language_info": {
   "codemirror_mode": {
    "name": "ipython",
    "version": 3
   },
   "file_extension": ".py",
   "mimetype": "text/x-python",
   "name": "python",
   "nbconvert_exporter": "python",
   "pygments_lexer": "ipython3",
   "version": "3.10.4"
  },
  "orig_nbformat": 4,
  "vscode": {
   "interpreter": {
    "hash": "0e871aec5cdce359f50730c2f4a4c8102d3246dd2d9815cdf4f3c7213e8de692"
   }
  }
 },
 "nbformat": 4,
 "nbformat_minor": 2
}
