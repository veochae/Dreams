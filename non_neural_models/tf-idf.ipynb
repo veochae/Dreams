{
 "cells": [
  {
   "attachments": {},
   "cell_type": "markdown",
   "metadata": {},
   "source": [
    "# TF-IDF\n",
    "\n",
    "##### Term Frequency (TF): Number of Times a Word Appears in a Document Divided by the Total Number of Words in the document (Unique to each document) - lower = rarity\n",
    "##### Inverse Data Frequency (IDF): Log of the Number of Documents Divided by the Number of Documents that contain the respective word (determines the rarity of words across ALL documents) - lower = less important\n",
    "##### TF-IDF : TF X IDF - higher = rarity "
   ]
  },
  {
   "cell_type": "code",
   "execution_count": 1,
   "metadata": {},
   "outputs": [],
   "source": [
    "#import packages\n",
    "import pandas as pd\n",
    "import numpy as np\n",
    "import math\n",
    "from ast import literal_eval"
   ]
  },
  {
   "cell_type": "code",
   "execution_count": 2,
   "metadata": {},
   "outputs": [],
   "source": [
    "#Import Corpus and Tokenized Wordlist\n",
    "corpus = pd.read_csv(\"../data/cleaned data/corpus.csv\")\n",
    "token = pd.read_csv(\"../data/cleaned data/tokenized.csv\",converters={\"tokenized\": literal_eval})\n",
    "\n",
    "corpus = corpus.drop(\"Unnamed: 0\",axis=1)\n",
    "token = token.drop(\"Unnamed: 0\",axis=1)\n",
    "\n",
    "#make sure to have a \"set\" of words for each row, instead of \"list\"\n",
    "tokenized = [list(set(li)) for li in token['tokenized']]"
   ]
  },
  {
   "cell_type": "code",
   "execution_count": 3,
   "metadata": {},
   "outputs": [],
   "source": [
    "#define term frequency (tf) function\n",
    "def tf(corpus, token_set):\n",
    "    tf_dict = {}\n",
    "    n = len(token_set)\n",
    "    row_dict = corpus\n",
    "\n",
    "    for word, count in row_dict.items():\n",
    "        tf_dict[word] = count / float(n)\n",
    "    \n",
    "    return tf_dict\n",
    "\n",
    "#define inverse data frequency (idf) function\n",
    "def idf(documents):\n",
    "    n = len(documents)\n",
    "    idf_dict = dict.fromkeys(documents[0].keys(),0)\n",
    "\n",
    "    for document in documents:\n",
    "        for word, val in document.items():\n",
    "            if val > 0:\n",
    "                idf_dict[word] += 1\n",
    "        \n",
    "    for word, val in idf_dict.items():\n",
    "        idf_dict[word] = math.log(n / float(val))\n",
    "\n",
    "    return idf_dict\n",
    "\n",
    "#define tf-idf function\n",
    "def tf_idf(tf, idf):\n",
    "    tf_idf_dict = {}\n",
    "\n",
    "    for word, val in tf.items():\n",
    "        tf_idf_dict[word] = val * idf[word]\n",
    "\n",
    "    return tf_idf_dict\n",
    "\n",
    "#main function to execute all above\n",
    "def main(corpus, tokenized):\n",
    "    tf_li = []\n",
    "    tf_idf_li = []\n",
    "    \n",
    "    documents = [corpus.iloc[i,:].to_dict() for i in range(corpus.shape[0])]\n",
    "\n",
    "    for l, r in enumerate(documents):\n",
    "        tf_temp = tf(r, tokenized[l])\n",
    "        tf_li.append(tf_temp)\n",
    "    \n",
    "    idf_dict = idf(documents)\n",
    "\n",
    "    for t in tf_li:\n",
    "        tf_idf_temp = tf_idf(t, idf_dict)\n",
    "        tf_idf_li.append(tf_idf_temp)\n",
    "\n",
    "    return pd.DataFrame(tf_idf_li) , pd.DataFrame(tf_li) , pd.DataFrame(idf_dict, index=[0])\n"
   ]
  },
  {
   "cell_type": "code",
   "execution_count": 4,
   "metadata": {},
   "outputs": [],
   "source": [
    "#run the main function to get the dataframes of tfidf, tf, idf\n",
    "tf_idf_df, tf_df, idf_df= main(corpus, tokenized)"
   ]
  },
  {
   "cell_type": "code",
   "execution_count": 5,
   "metadata": {},
   "outputs": [
    {
     "data": {
      "text/html": [
       "<div>\n",
       "<style scoped>\n",
       "    .dataframe tbody tr th:only-of-type {\n",
       "        vertical-align: middle;\n",
       "    }\n",
       "\n",
       "    .dataframe tbody tr th {\n",
       "        vertical-align: top;\n",
       "    }\n",
       "\n",
       "    .dataframe thead th {\n",
       "        text-align: right;\n",
       "    }\n",
       "</style>\n",
       "<table border=\"1\" class=\"dataframe\">\n",
       "  <thead>\n",
       "    <tr style=\"text-align: right;\">\n",
       "      <th></th>\n",
       "      <th>abandon</th>\n",
       "      <th>abandoned</th>\n",
       "      <th>abandoning</th>\n",
       "      <th>abandonment</th>\n",
       "      <th>abaut</th>\n",
       "      <th>abc</th>\n",
       "      <th>abd</th>\n",
       "      <th>abduct</th>\n",
       "      <th>abducted</th>\n",
       "      <th>abhorrance</th>\n",
       "      <th>...</th>\n",
       "      <th>zombified</th>\n",
       "      <th>zompire</th>\n",
       "      <th>zompires</th>\n",
       "      <th>zoning</th>\n",
       "      <th>zoom</th>\n",
       "      <th>zooming</th>\n",
       "      <th>zoso</th>\n",
       "      <th>zz</th>\n",
       "      <th>æons</th>\n",
       "      <th>èver</th>\n",
       "    </tr>\n",
       "  </thead>\n",
       "  <tbody>\n",
       "    <tr>\n",
       "      <th>0</th>\n",
       "      <td>6.057954</td>\n",
       "      <td>4.186152</td>\n",
       "      <td>6.057954</td>\n",
       "      <td>6.751101</td>\n",
       "      <td>6.751101</td>\n",
       "      <td>6.057954</td>\n",
       "      <td>6.751101</td>\n",
       "      <td>6.751101</td>\n",
       "      <td>6.057954</td>\n",
       "      <td>6.751101</td>\n",
       "      <td>...</td>\n",
       "      <td>6.057954</td>\n",
       "      <td>6.751101</td>\n",
       "      <td>6.751101</td>\n",
       "      <td>6.751101</td>\n",
       "      <td>5.364807</td>\n",
       "      <td>6.751101</td>\n",
       "      <td>6.751101</td>\n",
       "      <td>6.751101</td>\n",
       "      <td>6.751101</td>\n",
       "      <td>6.751101</td>\n",
       "    </tr>\n",
       "  </tbody>\n",
       "</table>\n",
       "<p>1 rows × 8968 columns</p>\n",
       "</div>"
      ],
      "text/plain": [
       "    abandon  abandoned  abandoning  abandonment     abaut       abc       abd   \n",
       "0  6.057954   4.186152    6.057954     6.751101  6.751101  6.057954  6.751101  \\\n",
       "\n",
       "     abduct  abducted  abhorrance  ...  zombified   zompire  zompires   \n",
       "0  6.751101  6.057954    6.751101  ...   6.057954  6.751101  6.751101  \\\n",
       "\n",
       "     zoning      zoom   zooming      zoso        zz      æons      èver  \n",
       "0  6.751101  5.364807  6.751101  6.751101  6.751101  6.751101  6.751101  \n",
       "\n",
       "[1 rows x 8968 columns]"
      ]
     },
     "execution_count": 5,
     "metadata": {},
     "output_type": "execute_result"
    }
   ],
   "source": [
    "#check to see if the function worked correctly\n",
    "idf_df.loc[idf_df['abandon'] >0]"
   ]
  },
  {
   "cell_type": "code",
   "execution_count": 6,
   "metadata": {},
   "outputs": [
    {
     "data": {
      "text/plain": [
       "figure             0.106467\n",
       "blurry             0.100074\n",
       "inhuman            0.077599\n",
       "downcast           0.077599\n",
       "lb                 0.077599\n",
       "pump               0.077599\n",
       "distinctiveness    0.077599\n",
       "identify           0.069632\n",
       "towering           0.069632\n",
       "helpless           0.069632\n",
       "pinned             0.064971\n",
       "torso              0.064971\n",
       "growl              0.064971\n",
       "balance            0.061664\n",
       "hint               0.057004\n",
       "Name: 1, dtype: float64"
      ]
     },
     "execution_count": 6,
     "metadata": {},
     "output_type": "execute_result"
    }
   ],
   "source": [
    "#showing top 10 tf_idf values for the 2nd dream\n",
    "    #visualization methods to be considered\n",
    "temp = tf_idf_df.iloc[1,:]\n",
    "temp.sort_values(axis = 0, ascending = False)[:15]"
   ]
  }
 ],
 "metadata": {
  "kernelspec": {
   "display_name": "ANLY501",
   "language": "python",
   "name": "python3"
  },
  "language_info": {
   "codemirror_mode": {
    "name": "ipython",
    "version": 3
   },
   "file_extension": ".py",
   "mimetype": "text/x-python",
   "name": "python",
   "nbconvert_exporter": "python",
   "pygments_lexer": "ipython3",
   "version": "3.10.4"
  },
  "orig_nbformat": 4
 },
 "nbformat": 4,
 "nbformat_minor": 2
}
