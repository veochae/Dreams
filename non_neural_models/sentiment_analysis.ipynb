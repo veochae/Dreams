{
 "cells": [
  {
   "attachments": {},
   "cell_type": "markdown",
   "metadata": {},
   "source": [
    "<h2>Sentiment Analysis"
   ]
  },
  {
   "cell_type": "code",
   "execution_count": 2,
   "metadata": {},
   "outputs": [
    {
     "name": "stderr",
     "output_type": "stream",
     "text": [
      "/Users/veochae/opt/anaconda3/envs/ANLY501/lib/python3.10/site-packages/scipy/__init__.py:146: UserWarning: A NumPy version >=1.16.5 and <1.23.0 is required for this version of SciPy (detected version 1.24.2\n",
      "  warnings.warn(f\"A NumPy version >={np_minversion} and <{np_maxversion}\"\n"
     ]
    }
   ],
   "source": [
    "import pandas as pd\n",
    "import numpy as np\n",
    "from nltk.sentiment import SentimentIntensityAnalyzer\n",
    "from plotly.subplots import make_subplots\n",
    "import plotly.graph_objects as go"
   ]
  },
  {
   "cell_type": "code",
   "execution_count": 7,
   "metadata": {},
   "outputs": [],
   "source": [
    "df = pd.read_csv(\"../data/cleaned data/complete.csv\", index_col=0)"
   ]
  },
  {
   "cell_type": "code",
   "execution_count": 5,
   "metadata": {},
   "outputs": [],
   "source": [
    "sentiment = SentimentIntensityAnalyzer()"
   ]
  },
  {
   "cell_type": "code",
   "execution_count": 8,
   "metadata": {},
   "outputs": [],
   "source": [
    "negative = []\n",
    "positive = []\n",
    "neutral = []\n",
    "compound = []\n",
    "\n",
    "for sentence in df.complete:\n",
    "    temp = sentiment.polarity_scores(sentence)\n",
    "    negative.append(temp['neg'])\n",
    "    positive.append(temp['pos'])\n",
    "    neutral.append(temp['neu'])\n",
    "    compound.append(temp['compound'])\n",
    "\n",
    "final = pd.DataFrame(list(zip(negative,positive,neutral,compound)), columns=['neg','pos','neu','cmp'])"
   ]
  },
  {
   "cell_type": "code",
   "execution_count": 9,
   "metadata": {},
   "outputs": [
    {
     "name": "stdout",
     "output_type": "stream",
     "text": [
      "       neg    pos    neu     cmp\n",
      "0    0.046  0.282  0.673  0.9612\n",
      "1    0.208  0.140  0.652 -0.4102\n",
      "2    0.092  0.263  0.646  0.9275\n",
      "3    0.152  0.173  0.674  0.1027\n",
      "4    0.030  0.212  0.758  0.8731\n",
      "..     ...    ...    ...     ...\n",
      "850  0.000  0.000  1.000  0.0000\n",
      "851  0.150  0.150  0.700  0.2263\n",
      "852  0.172  0.118  0.711 -0.2960\n",
      "853  0.050  0.167  0.783  0.9083\n",
      "854  0.126  0.347  0.528  0.9260\n",
      "\n",
      "[855 rows x 4 columns]\n"
     ]
    }
   ],
   "source": [
    "print(final)"
   ]
  },
  {
   "cell_type": "code",
   "execution_count": 6,
   "metadata": {},
   "outputs": [
    {
     "data": {
      "text/plain": [
       "{'neg': 0.0, 'neu': 1.0, 'pos': 0.0, 'compound': 0.0}"
      ]
     },
     "execution_count": 6,
     "metadata": {},
     "output_type": "execute_result"
    }
   ],
   "source": [
    "sentiment.polarity_scores(\"hello\")"
   ]
  },
  {
   "attachments": {},
   "cell_type": "markdown",
   "metadata": {},
   "source": [
    "Choose a dream"
   ]
  },
  {
   "cell_type": "code",
   "execution_count": 31,
   "metadata": {},
   "outputs": [
    {
     "name": "stdout",
     "output_type": "stream",
     "text": [
      "dream twice vividly gallery kind buying artwork never done anything like waking life grew really frugal shopped local goodwill also art collector waking life dream always buying large painting blowing lot money richest girl world like specific meaning \n",
      "[0.09, 0.23, 0.681, 0.7636]\n"
     ]
    }
   ],
   "source": [
    "ind = 20\n",
    "ind2 = 30\n",
    "\n",
    "print(df.complete[ind])\n",
    "print(final.iloc[20,:].tolist())"
   ]
  },
  {
   "attachments": {},
   "cell_type": "markdown",
   "metadata": {},
   "source": [
    "comparative sentiment"
   ]
  },
  {
   "cell_type": "code",
   "execution_count": 32,
   "metadata": {},
   "outputs": [
    {
     "data": {
      "application/vnd.plotly.v1+json": {
       "config": {
        "plotlyServerURL": "https://plot.ly"
       },
       "data": [
        {
         "name": "Dream 20",
         "type": "bar",
         "x": [
          "Positive",
          "Negative",
          "Neutral",
          "Compound"
         ],
         "xaxis": "x",
         "y": [
          0.09,
          0.23,
          0.681,
          0.7636
         ],
         "yaxis": "y"
        },
        {
         "name": "Dream 30",
         "type": "bar",
         "x": [
          "Positive",
          "Negative",
          "Neutral",
          "Compound"
         ],
         "xaxis": "x2",
         "y": [
          0.136,
          0.109,
          0.755,
          -0.7884
         ],
         "yaxis": "y2"
        }
       ],
       "layout": {
        "legend": {
         "title": {
          "text": "Dreams"
         }
        },
        "template": {
         "data": {
          "bar": [
           {
            "error_x": {
             "color": "#2a3f5f"
            },
            "error_y": {
             "color": "#2a3f5f"
            },
            "marker": {
             "line": {
              "color": "#E5ECF6",
              "width": 0.5
             },
             "pattern": {
              "fillmode": "overlay",
              "size": 10,
              "solidity": 0.2
             }
            },
            "type": "bar"
           }
          ],
          "barpolar": [
           {
            "marker": {
             "line": {
              "color": "#E5ECF6",
              "width": 0.5
             },
             "pattern": {
              "fillmode": "overlay",
              "size": 10,
              "solidity": 0.2
             }
            },
            "type": "barpolar"
           }
          ],
          "carpet": [
           {
            "aaxis": {
             "endlinecolor": "#2a3f5f",
             "gridcolor": "white",
             "linecolor": "white",
             "minorgridcolor": "white",
             "startlinecolor": "#2a3f5f"
            },
            "baxis": {
             "endlinecolor": "#2a3f5f",
             "gridcolor": "white",
             "linecolor": "white",
             "minorgridcolor": "white",
             "startlinecolor": "#2a3f5f"
            },
            "type": "carpet"
           }
          ],
          "choropleth": [
           {
            "colorbar": {
             "outlinewidth": 0,
             "ticks": ""
            },
            "type": "choropleth"
           }
          ],
          "contour": [
           {
            "colorbar": {
             "outlinewidth": 0,
             "ticks": ""
            },
            "colorscale": [
             [
              0,
              "#0d0887"
             ],
             [
              0.1111111111111111,
              "#46039f"
             ],
             [
              0.2222222222222222,
              "#7201a8"
             ],
             [
              0.3333333333333333,
              "#9c179e"
             ],
             [
              0.4444444444444444,
              "#bd3786"
             ],
             [
              0.5555555555555556,
              "#d8576b"
             ],
             [
              0.6666666666666666,
              "#ed7953"
             ],
             [
              0.7777777777777778,
              "#fb9f3a"
             ],
             [
              0.8888888888888888,
              "#fdca26"
             ],
             [
              1,
              "#f0f921"
             ]
            ],
            "type": "contour"
           }
          ],
          "contourcarpet": [
           {
            "colorbar": {
             "outlinewidth": 0,
             "ticks": ""
            },
            "type": "contourcarpet"
           }
          ],
          "heatmap": [
           {
            "colorbar": {
             "outlinewidth": 0,
             "ticks": ""
            },
            "colorscale": [
             [
              0,
              "#0d0887"
             ],
             [
              0.1111111111111111,
              "#46039f"
             ],
             [
              0.2222222222222222,
              "#7201a8"
             ],
             [
              0.3333333333333333,
              "#9c179e"
             ],
             [
              0.4444444444444444,
              "#bd3786"
             ],
             [
              0.5555555555555556,
              "#d8576b"
             ],
             [
              0.6666666666666666,
              "#ed7953"
             ],
             [
              0.7777777777777778,
              "#fb9f3a"
             ],
             [
              0.8888888888888888,
              "#fdca26"
             ],
             [
              1,
              "#f0f921"
             ]
            ],
            "type": "heatmap"
           }
          ],
          "heatmapgl": [
           {
            "colorbar": {
             "outlinewidth": 0,
             "ticks": ""
            },
            "colorscale": [
             [
              0,
              "#0d0887"
             ],
             [
              0.1111111111111111,
              "#46039f"
             ],
             [
              0.2222222222222222,
              "#7201a8"
             ],
             [
              0.3333333333333333,
              "#9c179e"
             ],
             [
              0.4444444444444444,
              "#bd3786"
             ],
             [
              0.5555555555555556,
              "#d8576b"
             ],
             [
              0.6666666666666666,
              "#ed7953"
             ],
             [
              0.7777777777777778,
              "#fb9f3a"
             ],
             [
              0.8888888888888888,
              "#fdca26"
             ],
             [
              1,
              "#f0f921"
             ]
            ],
            "type": "heatmapgl"
           }
          ],
          "histogram": [
           {
            "marker": {
             "pattern": {
              "fillmode": "overlay",
              "size": 10,
              "solidity": 0.2
             }
            },
            "type": "histogram"
           }
          ],
          "histogram2d": [
           {
            "colorbar": {
             "outlinewidth": 0,
             "ticks": ""
            },
            "colorscale": [
             [
              0,
              "#0d0887"
             ],
             [
              0.1111111111111111,
              "#46039f"
             ],
             [
              0.2222222222222222,
              "#7201a8"
             ],
             [
              0.3333333333333333,
              "#9c179e"
             ],
             [
              0.4444444444444444,
              "#bd3786"
             ],
             [
              0.5555555555555556,
              "#d8576b"
             ],
             [
              0.6666666666666666,
              "#ed7953"
             ],
             [
              0.7777777777777778,
              "#fb9f3a"
             ],
             [
              0.8888888888888888,
              "#fdca26"
             ],
             [
              1,
              "#f0f921"
             ]
            ],
            "type": "histogram2d"
           }
          ],
          "histogram2dcontour": [
           {
            "colorbar": {
             "outlinewidth": 0,
             "ticks": ""
            },
            "colorscale": [
             [
              0,
              "#0d0887"
             ],
             [
              0.1111111111111111,
              "#46039f"
             ],
             [
              0.2222222222222222,
              "#7201a8"
             ],
             [
              0.3333333333333333,
              "#9c179e"
             ],
             [
              0.4444444444444444,
              "#bd3786"
             ],
             [
              0.5555555555555556,
              "#d8576b"
             ],
             [
              0.6666666666666666,
              "#ed7953"
             ],
             [
              0.7777777777777778,
              "#fb9f3a"
             ],
             [
              0.8888888888888888,
              "#fdca26"
             ],
             [
              1,
              "#f0f921"
             ]
            ],
            "type": "histogram2dcontour"
           }
          ],
          "mesh3d": [
           {
            "colorbar": {
             "outlinewidth": 0,
             "ticks": ""
            },
            "type": "mesh3d"
           }
          ],
          "parcoords": [
           {
            "line": {
             "colorbar": {
              "outlinewidth": 0,
              "ticks": ""
             }
            },
            "type": "parcoords"
           }
          ],
          "pie": [
           {
            "automargin": true,
            "type": "pie"
           }
          ],
          "scatter": [
           {
            "fillpattern": {
             "fillmode": "overlay",
             "size": 10,
             "solidity": 0.2
            },
            "type": "scatter"
           }
          ],
          "scatter3d": [
           {
            "line": {
             "colorbar": {
              "outlinewidth": 0,
              "ticks": ""
             }
            },
            "marker": {
             "colorbar": {
              "outlinewidth": 0,
              "ticks": ""
             }
            },
            "type": "scatter3d"
           }
          ],
          "scattercarpet": [
           {
            "marker": {
             "colorbar": {
              "outlinewidth": 0,
              "ticks": ""
             }
            },
            "type": "scattercarpet"
           }
          ],
          "scattergeo": [
           {
            "marker": {
             "colorbar": {
              "outlinewidth": 0,
              "ticks": ""
             }
            },
            "type": "scattergeo"
           }
          ],
          "scattergl": [
           {
            "marker": {
             "colorbar": {
              "outlinewidth": 0,
              "ticks": ""
             }
            },
            "type": "scattergl"
           }
          ],
          "scattermapbox": [
           {
            "marker": {
             "colorbar": {
              "outlinewidth": 0,
              "ticks": ""
             }
            },
            "type": "scattermapbox"
           }
          ],
          "scatterpolar": [
           {
            "marker": {
             "colorbar": {
              "outlinewidth": 0,
              "ticks": ""
             }
            },
            "type": "scatterpolar"
           }
          ],
          "scatterpolargl": [
           {
            "marker": {
             "colorbar": {
              "outlinewidth": 0,
              "ticks": ""
             }
            },
            "type": "scatterpolargl"
           }
          ],
          "scatterternary": [
           {
            "marker": {
             "colorbar": {
              "outlinewidth": 0,
              "ticks": ""
             }
            },
            "type": "scatterternary"
           }
          ],
          "surface": [
           {
            "colorbar": {
             "outlinewidth": 0,
             "ticks": ""
            },
            "colorscale": [
             [
              0,
              "#0d0887"
             ],
             [
              0.1111111111111111,
              "#46039f"
             ],
             [
              0.2222222222222222,
              "#7201a8"
             ],
             [
              0.3333333333333333,
              "#9c179e"
             ],
             [
              0.4444444444444444,
              "#bd3786"
             ],
             [
              0.5555555555555556,
              "#d8576b"
             ],
             [
              0.6666666666666666,
              "#ed7953"
             ],
             [
              0.7777777777777778,
              "#fb9f3a"
             ],
             [
              0.8888888888888888,
              "#fdca26"
             ],
             [
              1,
              "#f0f921"
             ]
            ],
            "type": "surface"
           }
          ],
          "table": [
           {
            "cells": {
             "fill": {
              "color": "#EBF0F8"
             },
             "line": {
              "color": "white"
             }
            },
            "header": {
             "fill": {
              "color": "#C8D4E3"
             },
             "line": {
              "color": "white"
             }
            },
            "type": "table"
           }
          ]
         },
         "layout": {
          "annotationdefaults": {
           "arrowcolor": "#2a3f5f",
           "arrowhead": 0,
           "arrowwidth": 1
          },
          "autotypenumbers": "strict",
          "coloraxis": {
           "colorbar": {
            "outlinewidth": 0,
            "ticks": ""
           }
          },
          "colorscale": {
           "diverging": [
            [
             0,
             "#8e0152"
            ],
            [
             0.1,
             "#c51b7d"
            ],
            [
             0.2,
             "#de77ae"
            ],
            [
             0.3,
             "#f1b6da"
            ],
            [
             0.4,
             "#fde0ef"
            ],
            [
             0.5,
             "#f7f7f7"
            ],
            [
             0.6,
             "#e6f5d0"
            ],
            [
             0.7,
             "#b8e186"
            ],
            [
             0.8,
             "#7fbc41"
            ],
            [
             0.9,
             "#4d9221"
            ],
            [
             1,
             "#276419"
            ]
           ],
           "sequential": [
            [
             0,
             "#0d0887"
            ],
            [
             0.1111111111111111,
             "#46039f"
            ],
            [
             0.2222222222222222,
             "#7201a8"
            ],
            [
             0.3333333333333333,
             "#9c179e"
            ],
            [
             0.4444444444444444,
             "#bd3786"
            ],
            [
             0.5555555555555556,
             "#d8576b"
            ],
            [
             0.6666666666666666,
             "#ed7953"
            ],
            [
             0.7777777777777778,
             "#fb9f3a"
            ],
            [
             0.8888888888888888,
             "#fdca26"
            ],
            [
             1,
             "#f0f921"
            ]
           ],
           "sequentialminus": [
            [
             0,
             "#0d0887"
            ],
            [
             0.1111111111111111,
             "#46039f"
            ],
            [
             0.2222222222222222,
             "#7201a8"
            ],
            [
             0.3333333333333333,
             "#9c179e"
            ],
            [
             0.4444444444444444,
             "#bd3786"
            ],
            [
             0.5555555555555556,
             "#d8576b"
            ],
            [
             0.6666666666666666,
             "#ed7953"
            ],
            [
             0.7777777777777778,
             "#fb9f3a"
            ],
            [
             0.8888888888888888,
             "#fdca26"
            ],
            [
             1,
             "#f0f921"
            ]
           ]
          },
          "colorway": [
           "#636efa",
           "#EF553B",
           "#00cc96",
           "#ab63fa",
           "#FFA15A",
           "#19d3f3",
           "#FF6692",
           "#B6E880",
           "#FF97FF",
           "#FECB52"
          ],
          "font": {
           "color": "#2a3f5f"
          },
          "geo": {
           "bgcolor": "white",
           "lakecolor": "white",
           "landcolor": "#E5ECF6",
           "showlakes": true,
           "showland": true,
           "subunitcolor": "white"
          },
          "hoverlabel": {
           "align": "left"
          },
          "hovermode": "closest",
          "mapbox": {
           "style": "light"
          },
          "paper_bgcolor": "white",
          "plot_bgcolor": "#E5ECF6",
          "polar": {
           "angularaxis": {
            "gridcolor": "white",
            "linecolor": "white",
            "ticks": ""
           },
           "bgcolor": "#E5ECF6",
           "radialaxis": {
            "gridcolor": "white",
            "linecolor": "white",
            "ticks": ""
           }
          },
          "scene": {
           "xaxis": {
            "backgroundcolor": "#E5ECF6",
            "gridcolor": "white",
            "gridwidth": 2,
            "linecolor": "white",
            "showbackground": true,
            "ticks": "",
            "zerolinecolor": "white"
           },
           "yaxis": {
            "backgroundcolor": "#E5ECF6",
            "gridcolor": "white",
            "gridwidth": 2,
            "linecolor": "white",
            "showbackground": true,
            "ticks": "",
            "zerolinecolor": "white"
           },
           "zaxis": {
            "backgroundcolor": "#E5ECF6",
            "gridcolor": "white",
            "gridwidth": 2,
            "linecolor": "white",
            "showbackground": true,
            "ticks": "",
            "zerolinecolor": "white"
           }
          },
          "shapedefaults": {
           "line": {
            "color": "#2a3f5f"
           }
          },
          "ternary": {
           "aaxis": {
            "gridcolor": "white",
            "linecolor": "white",
            "ticks": ""
           },
           "baxis": {
            "gridcolor": "white",
            "linecolor": "white",
            "ticks": ""
           },
           "bgcolor": "#E5ECF6",
           "caxis": {
            "gridcolor": "white",
            "linecolor": "white",
            "ticks": ""
           }
          },
          "title": {
           "x": 0.05
          },
          "xaxis": {
           "automargin": true,
           "gridcolor": "white",
           "linecolor": "white",
           "ticks": "",
           "title": {
            "standoff": 15
           },
           "zerolinecolor": "white",
           "zerolinewidth": 2
          },
          "yaxis": {
           "automargin": true,
           "gridcolor": "white",
           "linecolor": "white",
           "ticks": "",
           "title": {
            "standoff": 15
           },
           "zerolinecolor": "white",
           "zerolinewidth": 2
          }
         }
        },
        "title": {
         "text": "TF-IDF Side by Side Barplot for Sentiment"
        },
        "xaxis": {
         "anchor": "y",
         "domain": [
          0,
          0.45
         ],
         "title": {
          "text": "Criteria"
         }
        },
        "xaxis2": {
         "anchor": "y2",
         "domain": [
          0.55,
          1
         ]
        },
        "yaxis": {
         "anchor": "x",
         "domain": [
          0,
          1
         ],
         "title": {
          "text": "Sentiment Scores"
         }
        },
        "yaxis2": {
         "anchor": "x2",
         "domain": [
          0,
          1
         ]
        }
       }
      }
     },
     "metadata": {},
     "output_type": "display_data"
    }
   ],
   "source": [
    "fig = make_subplots(rows=1, cols=2)\n",
    "\n",
    "fig.add_trace(go.Bar(x = ['Positive', \"Negative\", \"Neutral\", \"Compound\"],\n",
    "                    y = final.iloc[ind,:].tolist(),\n",
    "                    name = f\"Dream {ind}\"),\n",
    "                    row = 1, col = 1)\n",
    "\n",
    "fig.add_trace(go.Bar(x = ['Positive', \"Negative\", \"Neutral\", \"Compound\"],\n",
    "                    y = final.iloc[ind2,:].tolist(),\n",
    "                    name = f\"Dream {ind2}\"),\n",
    "                    row = 1, col = 2)     \n",
    "\n",
    "fig.update_layout(\n",
    "                    title=\"TF-IDF Side by Side Barplot for Sentiment\",\n",
    "                    xaxis_title=\"Criteria\",\n",
    "                    yaxis_title=\"Sentiment Scores\",\n",
    "                    legend_title=\"Dreams\"\n",
    "                    # font=dict(\n",
    "                    #     family=\"Courier New, monospace\",\n",
    "                    #     size=18,\n",
    "                    #     color=\"RebeccaPurple\"\n",
    "                    # )\n",
    "                )"
   ]
  },
  {
   "attachments": {},
   "cell_type": "markdown",
   "metadata": {},
   "source": [
    "Overall Histogram of Sentiments"
   ]
  },
  {
   "cell_type": "code",
   "execution_count": 10,
   "metadata": {},
   "outputs": [
    {
     "data": {
      "application/vnd.plotly.v1+json": {
       "config": {
        "plotlyServerURL": "https://plot.ly"
       },
       "data": [
        {
         "alignmentgroup": "True",
         "bingroup": "x",
         "hovertemplate": "pos=%{x}<br>count=%{y}<extra></extra>",
         "legendgroup": "",
         "marker": {
          "color": "#636efa",
          "pattern": {
           "shape": ""
          }
         },
         "name": "",
         "offsetgroup": "",
         "orientation": "v",
         "showlegend": false,
         "type": "histogram",
         "x": [
          0.282,
          0.14,
          0.263,
          0.173,
          0.212,
          0.427,
          0.233,
          0.19,
          0.14,
          0.315,
          0.41,
          0.382,
          0.075,
          0.159,
          0.125,
          0.127,
          0.269,
          0.097,
          0.19,
          0.266,
          0.23,
          0.224,
          0.14,
          0.15,
          0.38,
          0.047,
          0.199,
          0.313,
          0.359,
          0.296,
          0.109,
          0.205,
          0.306,
          0.246,
          0.169,
          0.216,
          0.19,
          0.263,
          0.136,
          0.145,
          0.107,
          0.232,
          0.122,
          0.16,
          0.151,
          0.288,
          0.224,
          0.559,
          0.127,
          0.212,
          0.19,
          0.255,
          0.426,
          0.313,
          0.274,
          0.083,
          0.175,
          0.459,
          0,
          0.139,
          0.137,
          0.347,
          0.247,
          0.136,
          0.466,
          0.12,
          0.135,
          0.257,
          0.327,
          0.16,
          0.102,
          0.124,
          0.264,
          0.232,
          0.168,
          0.23,
          0.078,
          0.269,
          0.245,
          0.183,
          0.241,
          0.252,
          0.127,
          0.186,
          0.199,
          0.248,
          0.391,
          0.169,
          0.382,
          0.246,
          0,
          0.155,
          0.169,
          0.188,
          0.424,
          0.096,
          0.165,
          0.155,
          0.195,
          0.305,
          0.277,
          0.141,
          0.109,
          0.133,
          0.194,
          0.256,
          0.169,
          0.405,
          0.255,
          0.231,
          0.179,
          0.291,
          0.275,
          0.377,
          0.406,
          0.226,
          0.041,
          0.19,
          0.218,
          0.202,
          0.215,
          0.148,
          0.22,
          0.375,
          0.264,
          0,
          0.276,
          0.234,
          0.177,
          0.221,
          0.25,
          0.131,
          0.265,
          0.198,
          0.162,
          0.199,
          0.265,
          0.351,
          0.252,
          0.29,
          0.201,
          0.122,
          0.07,
          0.411,
          0.157,
          0.173,
          0.309,
          0.048,
          0.141,
          0.156,
          0.503,
          0.125,
          0.231,
          0.242,
          0.153,
          0.257,
          0.14,
          0.07,
          0.261,
          0.228,
          0.078,
          0.162,
          0.168,
          0.201,
          0.203,
          0.087,
          0.069,
          0.222,
          0.35,
          0.353,
          0.172,
          0.082,
          0.158,
          0.272,
          0.174,
          0.202,
          0.305,
          0.278,
          0.322,
          0.285,
          0.112,
          0.338,
          0.192,
          0.121,
          0.244,
          0.099,
          0.45,
          0.149,
          0.232,
          0,
          0.473,
          0,
          0.283,
          0.271,
          0.055,
          0.353,
          0.129,
          0.197,
          0.296,
          0.213,
          0.243,
          0.217,
          0.189,
          0.273,
          0.249,
          0.207,
          0.267,
          0.337,
          0.243,
          0.114,
          0.206,
          0.49,
          0.141,
          0.246,
          0.177,
          0.053,
          0.134,
          0.089,
          0.221,
          0.079,
          0.163,
          0.168,
          0.377,
          0.218,
          0.276,
          0.289,
          0.277,
          0.223,
          0.277,
          0.15,
          0.103,
          0.22,
          0.108,
          0.162,
          0.115,
          0.195,
          0.276,
          0,
          0.229,
          0.466,
          0.219,
          0.149,
          0.303,
          0.111,
          0.233,
          0.266,
          0.211,
          0.22,
          0.239,
          0.211,
          0.224,
          0.205,
          0.123,
          0.195,
          0.199,
          0.269,
          0.102,
          0.17,
          0.165,
          0.179,
          0.13,
          0.101,
          0.281,
          0.119,
          0.251,
          0.135,
          0.136,
          0.289,
          0.11,
          0.227,
          0.455,
          0.199,
          0.068,
          0.268,
          0.096,
          0.182,
          0.266,
          0.131,
          0.099,
          0.151,
          0.178,
          0.101,
          0.155,
          0.246,
          0.33,
          0.348,
          0.242,
          0.163,
          0.186,
          0.048,
          0.126,
          0.297,
          0.239,
          0.297,
          0.192,
          0.098,
          0.14,
          0.234,
          0.235,
          0.296,
          0.26,
          0.46,
          0.248,
          0.225,
          0.204,
          0.397,
          0.18,
          0.224,
          0.21,
          0.057,
          0.231,
          0.144,
          0.163,
          0.329,
          0.095,
          0.436,
          0.425,
          0.188,
          0.206,
          0.239,
          0.23,
          0.106,
          0.232,
          0.151,
          0.157,
          0.202,
          0.219,
          0.113,
          0.276,
          0.236,
          0.279,
          0.223,
          0.368,
          0.141,
          0.31,
          0.132,
          0.286,
          0.22,
          0.45,
          0.201,
          0.275,
          0.315,
          0.265,
          0.165,
          0.306,
          0.217,
          0.281,
          0.195,
          0.139,
          0.171,
          0.14,
          0.331,
          0.199,
          0.178,
          0.15,
          0.124,
          0.272,
          0.275,
          0.145,
          0.24,
          0.179,
          0.26,
          0.22,
          0.167,
          0.598,
          0.244,
          0.196,
          0.11,
          0.254,
          0.226,
          0.373,
          0.217,
          0.096,
          0.131,
          0.401,
          0.259,
          0.208,
          0.255,
          0.237,
          0.126,
          0.127,
          0,
          0.232,
          0.223,
          0.16,
          0.059,
          0.268,
          0.213,
          0.311,
          0.225,
          0.318,
          0.34,
          0.25,
          0.169,
          0.342,
          0.133,
          0.235,
          0.186,
          0.066,
          0.13,
          0.204,
          0.257,
          0,
          0.255,
          0.183,
          0.452,
          0.339,
          0.107,
          0.244,
          0.071,
          0.096,
          0.186,
          0.25,
          0.152,
          0.168,
          0.235,
          0.215,
          0.215,
          0.235,
          0.18,
          0.204,
          0.319,
          0.41,
          0.106,
          0.185,
          0.12,
          0.188,
          0.177,
          0.283,
          0.115,
          0.152,
          0.132,
          0.215,
          0.298,
          0.167,
          0.134,
          0.077,
          0.355,
          0.322,
          0.29,
          0.343,
          0.157,
          0.418,
          0.239,
          0.305,
          0.442,
          0.158,
          0,
          0.245,
          0.28,
          0.227,
          0.176,
          0.603,
          0.242,
          0.24,
          0.25,
          0.174,
          0.225,
          0.14,
          0.1,
          0.192,
          0.164,
          0.218,
          0.115,
          0.319,
          0.261,
          0.333,
          0.212,
          0.216,
          0.441,
          0.162,
          0.166,
          0.371,
          0.297,
          0.081,
          0.17,
          0.202,
          0.142,
          0.218,
          0.233,
          0.321,
          0.14,
          0.117,
          0.111,
          0.064,
          0.269,
          0.122,
          0.174,
          0.149,
          0.096,
          0.146,
          0.203,
          0.218,
          0.106,
          0.174,
          0.152,
          0.124,
          0.117,
          0.222,
          0.292,
          0.23,
          0.223,
          0.169,
          0.445,
          0.156,
          0.278,
          0.156,
          0,
          0.144,
          0.182,
          0.175,
          0.097,
          0.202,
          0.14,
          0.164,
          0.195,
          0.177,
          0.346,
          0.143,
          0.126,
          0.078,
          0.195,
          0.279,
          0.316,
          0.131,
          0.205,
          0.281,
          0.079,
          0.148,
          0.465,
          0.133,
          0.129,
          0.364,
          0.231,
          0.321,
          0.435,
          0.212,
          0.208,
          0.209,
          0.143,
          0.145,
          0.368,
          0.303,
          0.375,
          0,
          0.247,
          0.15,
          0.158,
          0.39,
          0.176,
          0.188,
          0.246,
          0.212,
          0.027,
          0.088,
          0.311,
          0.259,
          0.374,
          0.144,
          0.101,
          0.415,
          0.127,
          0.081,
          0.194,
          0.145,
          0.227,
          0.056,
          0.362,
          0.1,
          0.119,
          0.198,
          0.252,
          0.269,
          0.276,
          0.113,
          0.199,
          0.156,
          0.317,
          0.245,
          0.119,
          0.112,
          0.299,
          0.231,
          0.248,
          0.102,
          0.163,
          0.429,
          0.108,
          0.217,
          0.377,
          0.08,
          0.417,
          0.128,
          0.428,
          0.106,
          0.089,
          0.121,
          0.319,
          0.365,
          0.173,
          0.165,
          0.112,
          0.308,
          0.187,
          0.079,
          0.25,
          0.554,
          0.043,
          0.186,
          0.303,
          0.232,
          0.084,
          0.283,
          0.306,
          0.185,
          0.288,
          0.192,
          0.182,
          0.075,
          0.41,
          0.194,
          0.287,
          0.149,
          0.189,
          0.249,
          0.141,
          0.171,
          0.154,
          0.253,
          0.104,
          0.224,
          0.631,
          0.158,
          0.211,
          0.23,
          0.182,
          0.167,
          0.205,
          0.392,
          0.157,
          0.157,
          0.193,
          0.111,
          0.185,
          0.23,
          0.162,
          0.181,
          0.255,
          0.17,
          0.368,
          0.472,
          0.253,
          0.277,
          0.115,
          0.348,
          0,
          0.194,
          0.368,
          0.354,
          0.144,
          0.167,
          0.338,
          0.2,
          0.091,
          0.234,
          0.22,
          0,
          0.399,
          0.284,
          0,
          0.112,
          0.096,
          0.185,
          0.16,
          0.163,
          0.259,
          0.137,
          0,
          0.297,
          0,
          0.125,
          0.099,
          0.184,
          0.265,
          0.118,
          0.211,
          0.215,
          0.199,
          0.076,
          0.106,
          0.087,
          0.09,
          0.354,
          0.189,
          0.191,
          0.155,
          0.138,
          0.148,
          0.156,
          0.157,
          0.243,
          0.588,
          0.235,
          0.291,
          0.148,
          0.175,
          0.108,
          0.225,
          0.207,
          0.157,
          0.366,
          0.161,
          0.29,
          0.152,
          0.239,
          0.157,
          0.368,
          0.29,
          0.134,
          0.477,
          0.14,
          0.18,
          0.165,
          0.396,
          0.186,
          0.172,
          0.036,
          0.161,
          0.112,
          0.176,
          0.142,
          0.22,
          0.168,
          0.191,
          0.281,
          0.123,
          0.353,
          0.375,
          0.187,
          0.318,
          0.382,
          0.082,
          0.106,
          0.163,
          0.096,
          0.269,
          0.082,
          0.043,
          0.149,
          0.055,
          0.224,
          0.359,
          0.167,
          0.12,
          0.286,
          0.288,
          0.268,
          0.139,
          0.078,
          0.232,
          0.078,
          0.142,
          0.061,
          0.077,
          0.22,
          0.111,
          0.212,
          0.199,
          0.162,
          0.282,
          0.154,
          0.147,
          0.033,
          0.228,
          0.156,
          0.359,
          0.26,
          0.075,
          0.155,
          0.385,
          0.083,
          0.168,
          0.088,
          0.36,
          0.12,
          0.041,
          0.044,
          0.095,
          0.083,
          0.167,
          0.166,
          0.305,
          0,
          0.25,
          0.41,
          0.092,
          0.248,
          0.192,
          0.226,
          0.418,
          0.484,
          0.072,
          0.097,
          0.167,
          0.05,
          0.173,
          0.133,
          0.418,
          0.113,
          0.12,
          0.191,
          0.244,
          0.442,
          0.083,
          0.248,
          0.456,
          0.334,
          0.231,
          0.139,
          0.188,
          0.151,
          0.266,
          0.278,
          0.059,
          0.252,
          0.159,
          0.176,
          0,
          0.104,
          0.296,
          0.088,
          0.399,
          0.165,
          0.338,
          0.23,
          0.319,
          0.26,
          0.19,
          0.312,
          0.17,
          0.232,
          0.249,
          0.143,
          0.299,
          0.3,
          0.155,
          0.34,
          0.209,
          0.244,
          0.461,
          0,
          0.15,
          0.118,
          0.167,
          0.347
         ],
         "xaxis": "x",
         "yaxis": "y"
        }
       ],
       "layout": {
        "barmode": "relative",
        "legend": {
         "tracegroupgap": 0
        },
        "margin": {
         "t": 60
        },
        "template": {
         "data": {
          "bar": [
           {
            "error_x": {
             "color": "#2a3f5f"
            },
            "error_y": {
             "color": "#2a3f5f"
            },
            "marker": {
             "line": {
              "color": "#E5ECF6",
              "width": 0.5
             },
             "pattern": {
              "fillmode": "overlay",
              "size": 10,
              "solidity": 0.2
             }
            },
            "type": "bar"
           }
          ],
          "barpolar": [
           {
            "marker": {
             "line": {
              "color": "#E5ECF6",
              "width": 0.5
             },
             "pattern": {
              "fillmode": "overlay",
              "size": 10,
              "solidity": 0.2
             }
            },
            "type": "barpolar"
           }
          ],
          "carpet": [
           {
            "aaxis": {
             "endlinecolor": "#2a3f5f",
             "gridcolor": "white",
             "linecolor": "white",
             "minorgridcolor": "white",
             "startlinecolor": "#2a3f5f"
            },
            "baxis": {
             "endlinecolor": "#2a3f5f",
             "gridcolor": "white",
             "linecolor": "white",
             "minorgridcolor": "white",
             "startlinecolor": "#2a3f5f"
            },
            "type": "carpet"
           }
          ],
          "choropleth": [
           {
            "colorbar": {
             "outlinewidth": 0,
             "ticks": ""
            },
            "type": "choropleth"
           }
          ],
          "contour": [
           {
            "colorbar": {
             "outlinewidth": 0,
             "ticks": ""
            },
            "colorscale": [
             [
              0,
              "#0d0887"
             ],
             [
              0.1111111111111111,
              "#46039f"
             ],
             [
              0.2222222222222222,
              "#7201a8"
             ],
             [
              0.3333333333333333,
              "#9c179e"
             ],
             [
              0.4444444444444444,
              "#bd3786"
             ],
             [
              0.5555555555555556,
              "#d8576b"
             ],
             [
              0.6666666666666666,
              "#ed7953"
             ],
             [
              0.7777777777777778,
              "#fb9f3a"
             ],
             [
              0.8888888888888888,
              "#fdca26"
             ],
             [
              1,
              "#f0f921"
             ]
            ],
            "type": "contour"
           }
          ],
          "contourcarpet": [
           {
            "colorbar": {
             "outlinewidth": 0,
             "ticks": ""
            },
            "type": "contourcarpet"
           }
          ],
          "heatmap": [
           {
            "colorbar": {
             "outlinewidth": 0,
             "ticks": ""
            },
            "colorscale": [
             [
              0,
              "#0d0887"
             ],
             [
              0.1111111111111111,
              "#46039f"
             ],
             [
              0.2222222222222222,
              "#7201a8"
             ],
             [
              0.3333333333333333,
              "#9c179e"
             ],
             [
              0.4444444444444444,
              "#bd3786"
             ],
             [
              0.5555555555555556,
              "#d8576b"
             ],
             [
              0.6666666666666666,
              "#ed7953"
             ],
             [
              0.7777777777777778,
              "#fb9f3a"
             ],
             [
              0.8888888888888888,
              "#fdca26"
             ],
             [
              1,
              "#f0f921"
             ]
            ],
            "type": "heatmap"
           }
          ],
          "heatmapgl": [
           {
            "colorbar": {
             "outlinewidth": 0,
             "ticks": ""
            },
            "colorscale": [
             [
              0,
              "#0d0887"
             ],
             [
              0.1111111111111111,
              "#46039f"
             ],
             [
              0.2222222222222222,
              "#7201a8"
             ],
             [
              0.3333333333333333,
              "#9c179e"
             ],
             [
              0.4444444444444444,
              "#bd3786"
             ],
             [
              0.5555555555555556,
              "#d8576b"
             ],
             [
              0.6666666666666666,
              "#ed7953"
             ],
             [
              0.7777777777777778,
              "#fb9f3a"
             ],
             [
              0.8888888888888888,
              "#fdca26"
             ],
             [
              1,
              "#f0f921"
             ]
            ],
            "type": "heatmapgl"
           }
          ],
          "histogram": [
           {
            "marker": {
             "pattern": {
              "fillmode": "overlay",
              "size": 10,
              "solidity": 0.2
             }
            },
            "type": "histogram"
           }
          ],
          "histogram2d": [
           {
            "colorbar": {
             "outlinewidth": 0,
             "ticks": ""
            },
            "colorscale": [
             [
              0,
              "#0d0887"
             ],
             [
              0.1111111111111111,
              "#46039f"
             ],
             [
              0.2222222222222222,
              "#7201a8"
             ],
             [
              0.3333333333333333,
              "#9c179e"
             ],
             [
              0.4444444444444444,
              "#bd3786"
             ],
             [
              0.5555555555555556,
              "#d8576b"
             ],
             [
              0.6666666666666666,
              "#ed7953"
             ],
             [
              0.7777777777777778,
              "#fb9f3a"
             ],
             [
              0.8888888888888888,
              "#fdca26"
             ],
             [
              1,
              "#f0f921"
             ]
            ],
            "type": "histogram2d"
           }
          ],
          "histogram2dcontour": [
           {
            "colorbar": {
             "outlinewidth": 0,
             "ticks": ""
            },
            "colorscale": [
             [
              0,
              "#0d0887"
             ],
             [
              0.1111111111111111,
              "#46039f"
             ],
             [
              0.2222222222222222,
              "#7201a8"
             ],
             [
              0.3333333333333333,
              "#9c179e"
             ],
             [
              0.4444444444444444,
              "#bd3786"
             ],
             [
              0.5555555555555556,
              "#d8576b"
             ],
             [
              0.6666666666666666,
              "#ed7953"
             ],
             [
              0.7777777777777778,
              "#fb9f3a"
             ],
             [
              0.8888888888888888,
              "#fdca26"
             ],
             [
              1,
              "#f0f921"
             ]
            ],
            "type": "histogram2dcontour"
           }
          ],
          "mesh3d": [
           {
            "colorbar": {
             "outlinewidth": 0,
             "ticks": ""
            },
            "type": "mesh3d"
           }
          ],
          "parcoords": [
           {
            "line": {
             "colorbar": {
              "outlinewidth": 0,
              "ticks": ""
             }
            },
            "type": "parcoords"
           }
          ],
          "pie": [
           {
            "automargin": true,
            "type": "pie"
           }
          ],
          "scatter": [
           {
            "fillpattern": {
             "fillmode": "overlay",
             "size": 10,
             "solidity": 0.2
            },
            "type": "scatter"
           }
          ],
          "scatter3d": [
           {
            "line": {
             "colorbar": {
              "outlinewidth": 0,
              "ticks": ""
             }
            },
            "marker": {
             "colorbar": {
              "outlinewidth": 0,
              "ticks": ""
             }
            },
            "type": "scatter3d"
           }
          ],
          "scattercarpet": [
           {
            "marker": {
             "colorbar": {
              "outlinewidth": 0,
              "ticks": ""
             }
            },
            "type": "scattercarpet"
           }
          ],
          "scattergeo": [
           {
            "marker": {
             "colorbar": {
              "outlinewidth": 0,
              "ticks": ""
             }
            },
            "type": "scattergeo"
           }
          ],
          "scattergl": [
           {
            "marker": {
             "colorbar": {
              "outlinewidth": 0,
              "ticks": ""
             }
            },
            "type": "scattergl"
           }
          ],
          "scattermapbox": [
           {
            "marker": {
             "colorbar": {
              "outlinewidth": 0,
              "ticks": ""
             }
            },
            "type": "scattermapbox"
           }
          ],
          "scatterpolar": [
           {
            "marker": {
             "colorbar": {
              "outlinewidth": 0,
              "ticks": ""
             }
            },
            "type": "scatterpolar"
           }
          ],
          "scatterpolargl": [
           {
            "marker": {
             "colorbar": {
              "outlinewidth": 0,
              "ticks": ""
             }
            },
            "type": "scatterpolargl"
           }
          ],
          "scatterternary": [
           {
            "marker": {
             "colorbar": {
              "outlinewidth": 0,
              "ticks": ""
             }
            },
            "type": "scatterternary"
           }
          ],
          "surface": [
           {
            "colorbar": {
             "outlinewidth": 0,
             "ticks": ""
            },
            "colorscale": [
             [
              0,
              "#0d0887"
             ],
             [
              0.1111111111111111,
              "#46039f"
             ],
             [
              0.2222222222222222,
              "#7201a8"
             ],
             [
              0.3333333333333333,
              "#9c179e"
             ],
             [
              0.4444444444444444,
              "#bd3786"
             ],
             [
              0.5555555555555556,
              "#d8576b"
             ],
             [
              0.6666666666666666,
              "#ed7953"
             ],
             [
              0.7777777777777778,
              "#fb9f3a"
             ],
             [
              0.8888888888888888,
              "#fdca26"
             ],
             [
              1,
              "#f0f921"
             ]
            ],
            "type": "surface"
           }
          ],
          "table": [
           {
            "cells": {
             "fill": {
              "color": "#EBF0F8"
             },
             "line": {
              "color": "white"
             }
            },
            "header": {
             "fill": {
              "color": "#C8D4E3"
             },
             "line": {
              "color": "white"
             }
            },
            "type": "table"
           }
          ]
         },
         "layout": {
          "annotationdefaults": {
           "arrowcolor": "#2a3f5f",
           "arrowhead": 0,
           "arrowwidth": 1
          },
          "autotypenumbers": "strict",
          "coloraxis": {
           "colorbar": {
            "outlinewidth": 0,
            "ticks": ""
           }
          },
          "colorscale": {
           "diverging": [
            [
             0,
             "#8e0152"
            ],
            [
             0.1,
             "#c51b7d"
            ],
            [
             0.2,
             "#de77ae"
            ],
            [
             0.3,
             "#f1b6da"
            ],
            [
             0.4,
             "#fde0ef"
            ],
            [
             0.5,
             "#f7f7f7"
            ],
            [
             0.6,
             "#e6f5d0"
            ],
            [
             0.7,
             "#b8e186"
            ],
            [
             0.8,
             "#7fbc41"
            ],
            [
             0.9,
             "#4d9221"
            ],
            [
             1,
             "#276419"
            ]
           ],
           "sequential": [
            [
             0,
             "#0d0887"
            ],
            [
             0.1111111111111111,
             "#46039f"
            ],
            [
             0.2222222222222222,
             "#7201a8"
            ],
            [
             0.3333333333333333,
             "#9c179e"
            ],
            [
             0.4444444444444444,
             "#bd3786"
            ],
            [
             0.5555555555555556,
             "#d8576b"
            ],
            [
             0.6666666666666666,
             "#ed7953"
            ],
            [
             0.7777777777777778,
             "#fb9f3a"
            ],
            [
             0.8888888888888888,
             "#fdca26"
            ],
            [
             1,
             "#f0f921"
            ]
           ],
           "sequentialminus": [
            [
             0,
             "#0d0887"
            ],
            [
             0.1111111111111111,
             "#46039f"
            ],
            [
             0.2222222222222222,
             "#7201a8"
            ],
            [
             0.3333333333333333,
             "#9c179e"
            ],
            [
             0.4444444444444444,
             "#bd3786"
            ],
            [
             0.5555555555555556,
             "#d8576b"
            ],
            [
             0.6666666666666666,
             "#ed7953"
            ],
            [
             0.7777777777777778,
             "#fb9f3a"
            ],
            [
             0.8888888888888888,
             "#fdca26"
            ],
            [
             1,
             "#f0f921"
            ]
           ]
          },
          "colorway": [
           "#636efa",
           "#EF553B",
           "#00cc96",
           "#ab63fa",
           "#FFA15A",
           "#19d3f3",
           "#FF6692",
           "#B6E880",
           "#FF97FF",
           "#FECB52"
          ],
          "font": {
           "color": "#2a3f5f"
          },
          "geo": {
           "bgcolor": "white",
           "lakecolor": "white",
           "landcolor": "#E5ECF6",
           "showlakes": true,
           "showland": true,
           "subunitcolor": "white"
          },
          "hoverlabel": {
           "align": "left"
          },
          "hovermode": "closest",
          "mapbox": {
           "style": "light"
          },
          "paper_bgcolor": "white",
          "plot_bgcolor": "#E5ECF6",
          "polar": {
           "angularaxis": {
            "gridcolor": "white",
            "linecolor": "white",
            "ticks": ""
           },
           "bgcolor": "#E5ECF6",
           "radialaxis": {
            "gridcolor": "white",
            "linecolor": "white",
            "ticks": ""
           }
          },
          "scene": {
           "xaxis": {
            "backgroundcolor": "#E5ECF6",
            "gridcolor": "white",
            "gridwidth": 2,
            "linecolor": "white",
            "showbackground": true,
            "ticks": "",
            "zerolinecolor": "white"
           },
           "yaxis": {
            "backgroundcolor": "#E5ECF6",
            "gridcolor": "white",
            "gridwidth": 2,
            "linecolor": "white",
            "showbackground": true,
            "ticks": "",
            "zerolinecolor": "white"
           },
           "zaxis": {
            "backgroundcolor": "#E5ECF6",
            "gridcolor": "white",
            "gridwidth": 2,
            "linecolor": "white",
            "showbackground": true,
            "ticks": "",
            "zerolinecolor": "white"
           }
          },
          "shapedefaults": {
           "line": {
            "color": "#2a3f5f"
           }
          },
          "ternary": {
           "aaxis": {
            "gridcolor": "white",
            "linecolor": "white",
            "ticks": ""
           },
           "baxis": {
            "gridcolor": "white",
            "linecolor": "white",
            "ticks": ""
           },
           "bgcolor": "#E5ECF6",
           "caxis": {
            "gridcolor": "white",
            "linecolor": "white",
            "ticks": ""
           }
          },
          "title": {
           "x": 0.05
          },
          "xaxis": {
           "automargin": true,
           "gridcolor": "white",
           "linecolor": "white",
           "ticks": "",
           "title": {
            "standoff": 15
           },
           "zerolinecolor": "white",
           "zerolinewidth": 2
          },
          "yaxis": {
           "automargin": true,
           "gridcolor": "white",
           "linecolor": "white",
           "ticks": "",
           "title": {
            "standoff": 15
           },
           "zerolinecolor": "white",
           "zerolinewidth": 2
          }
         }
        },
        "xaxis": {
         "anchor": "y",
         "domain": [
          0,
          1
         ],
         "title": {
          "text": "pos"
         }
        },
        "yaxis": {
         "anchor": "x",
         "domain": [
          0,
          1
         ],
         "title": {
          "text": "count"
         }
        }
       }
      }
     },
     "metadata": {},
     "output_type": "display_data"
    }
   ],
   "source": [
    "import plotly.express as px\n",
    "\n",
    "fig = px.histogram(final, \n",
    "                   x = \"pos\", \n",
    "                   labels={\"cmp\": \"Compounded Sentiment\", \"count\": \"Count of Dreams\"})\n",
    "fig.show()"
   ]
  },
  {
   "cell_type": "code",
   "execution_count": 44,
   "metadata": {},
   "outputs": [
    {
     "data": {
      "text/html": [
       "<div>\n",
       "<style scoped>\n",
       "    .dataframe tbody tr th:only-of-type {\n",
       "        vertical-align: middle;\n",
       "    }\n",
       "\n",
       "    .dataframe tbody tr th {\n",
       "        vertical-align: top;\n",
       "    }\n",
       "\n",
       "    .dataframe thead th {\n",
       "        text-align: right;\n",
       "    }\n",
       "</style>\n",
       "<table border=\"1\" class=\"dataframe\">\n",
       "  <thead>\n",
       "    <tr style=\"text-align: right;\">\n",
       "      <th></th>\n",
       "      <th>Tag</th>\n",
       "      <th>Description</th>\n",
       "    </tr>\n",
       "  </thead>\n",
       "  <tbody>\n",
       "    <tr>\n",
       "      <th>0</th>\n",
       "      <td>AFX</td>\n",
       "      <td>affix</td>\n",
       "    </tr>\n",
       "    <tr>\n",
       "      <th>1</th>\n",
       "      <td>JJ</td>\n",
       "      <td>adjective</td>\n",
       "    </tr>\n",
       "    <tr>\n",
       "      <th>2</th>\n",
       "      <td>JJR</td>\n",
       "      <td>adjective, comparative</td>\n",
       "    </tr>\n",
       "    <tr>\n",
       "      <th>3</th>\n",
       "      <td>JJS</td>\n",
       "      <td>adjective, superlative</td>\n",
       "    </tr>\n",
       "    <tr>\n",
       "      <th>4</th>\n",
       "      <td>PDT</td>\n",
       "      <td>predeterminer</td>\n",
       "    </tr>\n",
       "    <tr>\n",
       "      <th>5</th>\n",
       "      <td>PRP$</td>\n",
       "      <td>pronoun, possessive</td>\n",
       "    </tr>\n",
       "    <tr>\n",
       "      <th>6</th>\n",
       "      <td>WDT</td>\n",
       "      <td>wh-determiner</td>\n",
       "    </tr>\n",
       "    <tr>\n",
       "      <th>7</th>\n",
       "      <td>WP$</td>\n",
       "      <td>wh-pronoun, possessive</td>\n",
       "    </tr>\n",
       "    <tr>\n",
       "      <th>8</th>\n",
       "      <td>IN</td>\n",
       "      <td>conjunction, subordinating or preposition</td>\n",
       "    </tr>\n",
       "    <tr>\n",
       "      <th>9</th>\n",
       "      <td>EX</td>\n",
       "      <td>existential there</td>\n",
       "    </tr>\n",
       "    <tr>\n",
       "      <th>10</th>\n",
       "      <td>RB</td>\n",
       "      <td>adverb</td>\n",
       "    </tr>\n",
       "    <tr>\n",
       "      <th>11</th>\n",
       "      <td>RBR</td>\n",
       "      <td>adverb, comparative</td>\n",
       "    </tr>\n",
       "    <tr>\n",
       "      <th>12</th>\n",
       "      <td>RBS</td>\n",
       "      <td>adverb, superlative</td>\n",
       "    </tr>\n",
       "    <tr>\n",
       "      <th>13</th>\n",
       "      <td>WRB</td>\n",
       "      <td>wh-adverb</td>\n",
       "    </tr>\n",
       "    <tr>\n",
       "      <th>14</th>\n",
       "      <td>CC</td>\n",
       "      <td>conjunction, coordinating</td>\n",
       "    </tr>\n",
       "    <tr>\n",
       "      <th>15</th>\n",
       "      <td>DT</td>\n",
       "      <td>determiner</td>\n",
       "    </tr>\n",
       "    <tr>\n",
       "      <th>16</th>\n",
       "      <td>UH</td>\n",
       "      <td>interjection</td>\n",
       "    </tr>\n",
       "    <tr>\n",
       "      <th>17</th>\n",
       "      <td>NN</td>\n",
       "      <td>noun, singular or mass</td>\n",
       "    </tr>\n",
       "    <tr>\n",
       "      <th>18</th>\n",
       "      <td>NNS</td>\n",
       "      <td>noun, plural</td>\n",
       "    </tr>\n",
       "    <tr>\n",
       "      <th>19</th>\n",
       "      <td>WP</td>\n",
       "      <td>wh-pronoun, personal</td>\n",
       "    </tr>\n",
       "    <tr>\n",
       "      <th>20</th>\n",
       "      <td>CD</td>\n",
       "      <td>cardinal number</td>\n",
       "    </tr>\n",
       "    <tr>\n",
       "      <th>21</th>\n",
       "      <td>POS</td>\n",
       "      <td>possessive ending</td>\n",
       "    </tr>\n",
       "    <tr>\n",
       "      <th>22</th>\n",
       "      <td>RP</td>\n",
       "      <td>adverb, particle</td>\n",
       "    </tr>\n",
       "    <tr>\n",
       "      <th>23</th>\n",
       "      <td>TO</td>\n",
       "      <td>infinitival to</td>\n",
       "    </tr>\n",
       "    <tr>\n",
       "      <th>24</th>\n",
       "      <td>PRP</td>\n",
       "      <td>pronoun, personal</td>\n",
       "    </tr>\n",
       "    <tr>\n",
       "      <th>25</th>\n",
       "      <td>NNP</td>\n",
       "      <td>noun, proper singular</td>\n",
       "    </tr>\n",
       "    <tr>\n",
       "      <th>26</th>\n",
       "      <td>NNPS</td>\n",
       "      <td>noun, proper plural</td>\n",
       "    </tr>\n",
       "    <tr>\n",
       "      <th>27</th>\n",
       "      <td>-LRB-</td>\n",
       "      <td>left round bracket</td>\n",
       "    </tr>\n",
       "    <tr>\n",
       "      <th>28</th>\n",
       "      <td>-RRB-</td>\n",
       "      <td>right round bracket</td>\n",
       "    </tr>\n",
       "    <tr>\n",
       "      <th>29</th>\n",
       "      <td>,</td>\n",
       "      <td>punctuation mark, comma</td>\n",
       "    </tr>\n",
       "    <tr>\n",
       "      <th>30</th>\n",
       "      <td>:</td>\n",
       "      <td>punctuation mark, colon or ellipsis</td>\n",
       "    </tr>\n",
       "    <tr>\n",
       "      <th>31</th>\n",
       "      <td>.</td>\n",
       "      <td>punctuation mark, sentence closer</td>\n",
       "    </tr>\n",
       "    <tr>\n",
       "      <th>32</th>\n",
       "      <td>”</td>\n",
       "      <td>closing quotation mark</td>\n",
       "    </tr>\n",
       "    <tr>\n",
       "      <th>33</th>\n",
       "      <td>“”</td>\n",
       "      <td>closing quotation mark</td>\n",
       "    </tr>\n",
       "    <tr>\n",
       "      <th>34</th>\n",
       "      <td>“</td>\n",
       "      <td>opening quotation mark</td>\n",
       "    </tr>\n",
       "    <tr>\n",
       "      <th>35</th>\n",
       "      <td>HYPH</td>\n",
       "      <td>punctuation mark, hyphen</td>\n",
       "    </tr>\n",
       "    <tr>\n",
       "      <th>36</th>\n",
       "      <td>LS</td>\n",
       "      <td>list item marker</td>\n",
       "    </tr>\n",
       "    <tr>\n",
       "      <th>37</th>\n",
       "      <td>NFP</td>\n",
       "      <td>superfluous punctuation</td>\n",
       "    </tr>\n",
       "    <tr>\n",
       "      <th>38</th>\n",
       "      <td>#</td>\n",
       "      <td>symbol, number sign</td>\n",
       "    </tr>\n",
       "    <tr>\n",
       "      <th>39</th>\n",
       "      <td>$</td>\n",
       "      <td>symbol, currency</td>\n",
       "    </tr>\n",
       "    <tr>\n",
       "      <th>40</th>\n",
       "      <td>SYM</td>\n",
       "      <td>symbol</td>\n",
       "    </tr>\n",
       "    <tr>\n",
       "      <th>41</th>\n",
       "      <td>BES</td>\n",
       "      <td>auxiliary “be”</td>\n",
       "    </tr>\n",
       "    <tr>\n",
       "      <th>42</th>\n",
       "      <td>HVS</td>\n",
       "      <td>forms of “have”</td>\n",
       "    </tr>\n",
       "    <tr>\n",
       "      <th>43</th>\n",
       "      <td>MD</td>\n",
       "      <td>verb, modal auxiliary</td>\n",
       "    </tr>\n",
       "    <tr>\n",
       "      <th>44</th>\n",
       "      <td>VB</td>\n",
       "      <td>verb, base form</td>\n",
       "    </tr>\n",
       "    <tr>\n",
       "      <th>45</th>\n",
       "      <td>VBD</td>\n",
       "      <td>verb, past tense</td>\n",
       "    </tr>\n",
       "    <tr>\n",
       "      <th>46</th>\n",
       "      <td>VBG</td>\n",
       "      <td>verb, gerund or present participle</td>\n",
       "    </tr>\n",
       "    <tr>\n",
       "      <th>47</th>\n",
       "      <td>VBN</td>\n",
       "      <td>verb, past participle</td>\n",
       "    </tr>\n",
       "    <tr>\n",
       "      <th>48</th>\n",
       "      <td>VBP</td>\n",
       "      <td>verb, non-3rd person singular present</td>\n",
       "    </tr>\n",
       "    <tr>\n",
       "      <th>49</th>\n",
       "      <td>VBZ</td>\n",
       "      <td>verb, 3rd person singular present</td>\n",
       "    </tr>\n",
       "    <tr>\n",
       "      <th>50</th>\n",
       "      <td>ADD</td>\n",
       "      <td>email</td>\n",
       "    </tr>\n",
       "    <tr>\n",
       "      <th>51</th>\n",
       "      <td>FW</td>\n",
       "      <td>foreign word</td>\n",
       "    </tr>\n",
       "    <tr>\n",
       "      <th>52</th>\n",
       "      <td>GW</td>\n",
       "      <td>additional word in multi-word expression</td>\n",
       "    </tr>\n",
       "    <tr>\n",
       "      <th>53</th>\n",
       "      <td>XX</td>\n",
       "      <td>unknown</td>\n",
       "    </tr>\n",
       "    <tr>\n",
       "      <th>54</th>\n",
       "      <td>_SP</td>\n",
       "      <td>space</td>\n",
       "    </tr>\n",
       "    <tr>\n",
       "      <th>55</th>\n",
       "      <td>missing tag</td>\n",
       "      <td>NaN</td>\n",
       "    </tr>\n",
       "  </tbody>\n",
       "</table>\n",
       "</div>"
      ],
      "text/plain": [
       "            Tag                                Description\n",
       "0           AFX                                      affix\n",
       "1            JJ                                  adjective\n",
       "2           JJR                     adjective, comparative\n",
       "3           JJS                     adjective, superlative\n",
       "4           PDT                              predeterminer\n",
       "5          PRP$                        pronoun, possessive\n",
       "6           WDT                              wh-determiner\n",
       "7           WP$                     wh-pronoun, possessive\n",
       "8            IN  conjunction, subordinating or preposition\n",
       "9            EX                          existential there\n",
       "10           RB                                     adverb\n",
       "11          RBR                        adverb, comparative\n",
       "12          RBS                        adverb, superlative\n",
       "13          WRB                                  wh-adverb\n",
       "14           CC                  conjunction, coordinating\n",
       "15           DT                                 determiner\n",
       "16           UH                               interjection\n",
       "17           NN                     noun, singular or mass\n",
       "18          NNS                               noun, plural\n",
       "19           WP                       wh-pronoun, personal\n",
       "20           CD                            cardinal number\n",
       "21          POS                          possessive ending\n",
       "22           RP                           adverb, particle\n",
       "23           TO                             infinitival to\n",
       "24          PRP                          pronoun, personal\n",
       "25          NNP                      noun, proper singular\n",
       "26         NNPS                        noun, proper plural\n",
       "27        -LRB-                         left round bracket\n",
       "28        -RRB-                        right round bracket\n",
       "29            ,                    punctuation mark, comma\n",
       "30            :        punctuation mark, colon or ellipsis\n",
       "31            .          punctuation mark, sentence closer\n",
       "32            ”                     closing quotation mark\n",
       "33           “”                     closing quotation mark\n",
       "34            “                     opening quotation mark\n",
       "35         HYPH                   punctuation mark, hyphen\n",
       "36           LS                           list item marker\n",
       "37          NFP                    superfluous punctuation\n",
       "38            #                        symbol, number sign\n",
       "39            $                           symbol, currency\n",
       "40          SYM                                     symbol\n",
       "41          BES                             auxiliary “be”\n",
       "42          HVS                            forms of “have”\n",
       "43           MD                      verb, modal auxiliary\n",
       "44           VB                            verb, base form\n",
       "45          VBD                           verb, past tense\n",
       "46          VBG         verb, gerund or present participle\n",
       "47          VBN                      verb, past participle\n",
       "48          VBP      verb, non-3rd person singular present\n",
       "49          VBZ          verb, 3rd person singular present\n",
       "50          ADD                                      email\n",
       "51           FW                               foreign word\n",
       "52           GW   additional word in multi-word expression\n",
       "53           XX                                    unknown\n",
       "54          _SP                                      space\n",
       "55  missing tag                                        NaN"
      ]
     },
     "execution_count": 44,
     "metadata": {},
     "output_type": "execute_result"
    }
   ],
   "source": [
    "pd.read_csv(\"https://gist.githubusercontent.com/veochae/447a8d4c7fa38a9494966e59564d4222/raw/9df88f091d6d1728eb347ee68ee2cdb297c0e5ff/spacy_tag.csv\")"
   ]
  }
 ],
 "metadata": {
  "kernelspec": {
   "display_name": "ANLY501",
   "language": "python",
   "name": "python3"
  },
  "language_info": {
   "codemirror_mode": {
    "name": "ipython",
    "version": 3
   },
   "file_extension": ".py",
   "mimetype": "text/x-python",
   "name": "python",
   "nbconvert_exporter": "python",
   "pygments_lexer": "ipython3",
   "version": "3.10.4"
  },
  "orig_nbformat": 4
 },
 "nbformat": 4,
 "nbformat_minor": 2
}
