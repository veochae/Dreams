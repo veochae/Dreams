{
 "cells": [
  {
   "attachments": {},
   "cell_type": "markdown",
   "metadata": {},
   "source": [
    "# Linear Discriminant Analysis (LDA) TOPIC MODELING"
   ]
  },
  {
   "cell_type": "code",
   "execution_count": null,
   "metadata": {},
   "outputs": [],
   "source": [
    "#import packages\n",
    "import pandas as pd\n",
    "from ast import literal_eval\n",
    "from pprint import pprint\n",
    "\n",
    "#gensim\n",
    "import gensim\n",
    "from gensim.utils import simple_preprocess\n",
    "import gensim.corpora as corpora\n",
    "\n",
    "#ldavis\n",
    "import pyLDAvis.gensim\n",
    "import pyLDAvis"
   ]
  },
  {
   "cell_type": "code",
   "execution_count": 24,
   "metadata": {},
   "outputs": [],
   "source": [
    "#import lemmatized data\n",
    "token = pd.read_csv(\"../data/cleaned data/lemmatized.csv\",converters={\"lemmatized\": literal_eval})\n",
    "\n",
    "#put the lemmatized dreams into list\n",
    "tokenized = [li for li in token['lemmatized']]"
   ]
  },
  {
   "cell_type": "code",
   "execution_count": 25,
   "metadata": {},
   "outputs": [],
   "source": [
    "# Create Dictionary\n",
    "id2word = corpora.Dictionary(tokenized)\n",
    "\n",
    "# Create Corpus\n",
    "texts = tokenized\n",
    "\n",
    "# Term Document Frequency\n",
    "corpus = [id2word.doc2bow(text) for text in texts]"
   ]
  },
  {
   "cell_type": "code",
   "execution_count": 29,
   "metadata": {},
   "outputs": [
    {
     "name": "stdout",
     "output_type": "stream",
     "text": [
      "[(0,\n",
      "  '0.086*\"back\" + 0.057*\"night\" + 0.043*\"hand\" + 0.041*\"car\" + 0.035*\"end\" + '\n",
      "  '0.034*\"start\" + 0.032*\"someone\" + 0.032*\"actually\" + 0.032*\"two\" + '\n",
      "  '0.030*\"much\"'),\n",
      " (1,\n",
      "  '0.000*\"progressively\" + 0.000*\"served\" + 0.000*\"outsider\" + '\n",
      "  '0.000*\"outwardly\" + 0.000*\"pace\" + 0.000*\"pilgrimage\" + 0.000*\"ponytail\" + '\n",
      "  '0.000*\"obstacle\" + 0.000*\"sacred\" + 0.000*\"toga\"'),\n",
      " (2,\n",
      "  '0.000*\"progressively\" + 0.000*\"served\" + 0.000*\"outsider\" + '\n",
      "  '0.000*\"outwardly\" + 0.000*\"pace\" + 0.000*\"pilgrimage\" + 0.000*\"ponytail\" + '\n",
      "  '0.000*\"obstacle\" + 0.000*\"sacred\" + 0.000*\"toga\"'),\n",
      " (3,\n",
      "  '0.000*\"progressively\" + 0.000*\"served\" + 0.000*\"outsider\" + '\n",
      "  '0.000*\"outwardly\" + 0.000*\"pace\" + 0.000*\"pilgrimage\" + 0.000*\"ponytail\" + '\n",
      "  '0.000*\"obstacle\" + 0.000*\"sacred\" + 0.000*\"toga\"'),\n",
      " (4,\n",
      "  '0.154*\"dream\" + 0.053*\"\" + 0.042*\"like\" + 0.042*\"one\" + 0.038*\"time\" + '\n",
      "  '0.034*\"could\" + 0.030*\"know\" + 0.025*\"would\" + 0.021*\"last\" + '\n",
      "  '0.019*\"people\"'),\n",
      " (5,\n",
      "  '0.000*\"progressively\" + 0.000*\"served\" + 0.000*\"outsider\" + '\n",
      "  '0.000*\"outwardly\" + 0.000*\"pace\" + 0.000*\"pilgrimage\" + 0.000*\"ponytail\" + '\n",
      "  '0.000*\"obstacle\" + 0.000*\"sacred\" + 0.000*\"toga\"'),\n",
      " (6,\n",
      "  '0.102*\"scared\" + 0.100*\"found\" + 0.056*\"new\" + 0.055*\"building\" + '\n",
      "  '0.054*\"black\" + 0.052*\"phone\" + 0.039*\"dad\" + 0.030*\"call\" + '\n",
      "  '0.026*\"similar\" + 0.020*\"cat\"'),\n",
      " (7,\n",
      "  '0.000*\"progressively\" + 0.000*\"served\" + 0.000*\"outsider\" + '\n",
      "  '0.000*\"outwardly\" + 0.000*\"pace\" + 0.000*\"pilgrimage\" + 0.000*\"ponytail\" + '\n",
      "  '0.000*\"obstacle\" + 0.000*\"sacred\" + 0.000*\"toga\"'),\n",
      " (8,\n",
      "  '0.000*\"progressively\" + 0.000*\"served\" + 0.000*\"outsider\" + '\n",
      "  '0.000*\"outwardly\" + 0.000*\"pace\" + 0.000*\"pilgrimage\" + 0.000*\"ponytail\" + '\n",
      "  '0.000*\"obstacle\" + 0.000*\"sacred\" + 0.000*\"toga\"'),\n",
      " (9,\n",
      "  '0.000*\"progressively\" + 0.000*\"served\" + 0.000*\"outsider\" + '\n",
      "  '0.000*\"outwardly\" + 0.000*\"pace\" + 0.000*\"pilgrimage\" + 0.000*\"ponytail\" + '\n",
      "  '0.000*\"obstacle\" + 0.000*\"sacred\" + 0.000*\"toga\"'),\n",
      " (10,\n",
      "  '0.099*\"feel\" + 0.074*\"really\" + 0.059*\"sleep\" + 0.058*\"remember\" + '\n",
      "  '0.056*\"weird\" + 0.045*\"anyone\" + 0.042*\"every\" + 0.041*\"day\" + '\n",
      "  '0.032*\"usually\" + 0.030*\"nightmare\"'),\n",
      " (11,\n",
      "  '0.130*\"girl\" + 0.077*\"kind\" + 0.062*\"try\" + 0.057*\"mine\" + 0.051*\"movie\" + '\n",
      "  '0.041*\"playing\" + 0.038*\"heart\" + 0.033*\"rock\" + 0.031*\"beautiful\" + '\n",
      "  '0.025*\"rest\"'),\n",
      " (12,\n",
      "  '0.000*\"progressively\" + 0.000*\"served\" + 0.000*\"outsider\" + '\n",
      "  '0.000*\"outwardly\" + 0.000*\"pace\" + 0.000*\"pilgrimage\" + 0.000*\"ponytail\" + '\n",
      "  '0.000*\"obstacle\" + 0.000*\"sacred\" + 0.000*\"toga\"'),\n",
      " (13,\n",
      "  '0.000*\"progressively\" + 0.000*\"served\" + 0.000*\"outsider\" + '\n",
      "  '0.000*\"outwardly\" + 0.000*\"pace\" + 0.000*\"pilgrimage\" + 0.000*\"ponytail\" + '\n",
      "  '0.000*\"obstacle\" + 0.000*\"sacred\" + 0.000*\"toga\"'),\n",
      " (14,\n",
      "  '0.097*\"long\" + 0.070*\"cry\" + 0.070*\"hair\" + 0.067*\"hour\" + 0.066*\"dreamt\" + '\n",
      "  '0.043*\"love\" + 0.025*\"called\" + 0.013*\"interested\" + 0.012*\"dressed\" + '\n",
      "  '0.010*\"yeah\"'),\n",
      " (15,\n",
      "  '0.000*\"progressively\" + 0.000*\"served\" + 0.000*\"outsider\" + '\n",
      "  '0.000*\"outwardly\" + 0.000*\"pace\" + 0.000*\"pilgrimage\" + 0.000*\"ponytail\" + '\n",
      "  '0.000*\"obstacle\" + 0.000*\"sacred\" + 0.000*\"toga\"'),\n",
      " (16,\n",
      "  '0.000*\"progressively\" + 0.000*\"served\" + 0.000*\"outsider\" + '\n",
      "  '0.000*\"outwardly\" + 0.000*\"pace\" + 0.000*\"pilgrimage\" + 0.000*\"ponytail\" + '\n",
      "  '0.000*\"obstacle\" + 0.000*\"sacred\" + 0.000*\"toga\"'),\n",
      " (17,\n",
      "  '0.027*\"like\" + 0.027*\"room\" + 0.027*\"house\" + 0.026*\"see\" + 0.026*\"felt\" + '\n",
      "  '0.024*\"said\" + 0.024*\"got\" + 0.024*\"started\" + 0.023*\"way\" + 0.023*\"even\"'),\n",
      " (18,\n",
      "  '0.000*\"progressively\" + 0.000*\"served\" + 0.000*\"outsider\" + '\n",
      "  '0.000*\"outwardly\" + 0.000*\"pace\" + 0.000*\"pilgrimage\" + 0.000*\"ponytail\" + '\n",
      "  '0.000*\"obstacle\" + 0.000*\"sacred\" + 0.000*\"toga\"'),\n",
      " (19,\n",
      "  '0.000*\"progressively\" + 0.000*\"served\" + 0.000*\"outsider\" + '\n",
      "  '0.000*\"outwardly\" + 0.000*\"pace\" + 0.000*\"pilgrimage\" + 0.000*\"ponytail\" + '\n",
      "  '0.000*\"obstacle\" + 0.000*\"sacred\" + 0.000*\"toga\"')]\n"
     ]
    }
   ],
   "source": [
    "# number of topics\n",
    "num_topics = 20\n",
    "\n",
    "# Build LDA model\n",
    "lda_model = gensim.models.ldamodel.LdaModel(corpus=corpus,\n",
    "                                           id2word=id2word,\n",
    "                                           num_topics=num_topics, \n",
    "                                           random_state=100,\n",
    "                                           update_every=1,\n",
    "                                           chunksize=10,\n",
    "                                           passes=2,\n",
    "                                           alpha='auto',\n",
    "                                           per_word_topics=True)\n",
    "\n",
    "# Print the Keyword in the 10 topics\n",
    "pprint(lda_model.print_topics())"
   ]
  },
  {
   "cell_type": "code",
   "execution_count": 30,
   "metadata": {},
   "outputs": [
    {
     "name": "stderr",
     "output_type": "stream",
     "text": [
      "/Users/veochae/opt/anaconda3/envs/ANLY501/lib/python3.10/site-packages/joblib/backports.py:36: DeprecationWarning: distutils Version classes are deprecated. Use packaging.version instead.\n",
      "  if LooseVersion(np.__version__) < '1.13':\n",
      "/Users/veochae/opt/anaconda3/envs/ANLY501/lib/python3.10/site-packages/joblib/backports.py:36: DeprecationWarning: distutils Version classes are deprecated. Use packaging.version instead.\n",
      "  if LooseVersion(np.__version__) < '1.13':\n",
      "/Users/veochae/opt/anaconda3/envs/ANLY501/lib/python3.10/site-packages/joblib/backports.py:36: DeprecationWarning: distutils Version classes are deprecated. Use packaging.version instead.\n",
      "  if LooseVersion(np.__version__) < '1.13':\n",
      "/Users/veochae/opt/anaconda3/envs/ANLY501/lib/python3.10/site-packages/joblib/backports.py:36: DeprecationWarning: distutils Version classes are deprecated. Use packaging.version instead.\n",
      "  if LooseVersion(np.__version__) < '1.13':\n",
      "/Users/veochae/opt/anaconda3/envs/ANLY501/lib/python3.10/site-packages/joblib/backports.py:36: DeprecationWarning: distutils Version classes are deprecated. Use packaging.version instead.\n",
      "  if LooseVersion(np.__version__) < '1.13':\n",
      "/Users/veochae/opt/anaconda3/envs/ANLY501/lib/python3.10/site-packages/setuptools/_distutils/version.py:346: DeprecationWarning: distutils Version classes are deprecated. Use packaging.version instead.\n",
      "  other = LooseVersion(other)\n",
      "/Users/veochae/opt/anaconda3/envs/ANLY501/lib/python3.10/site-packages/setuptools/_distutils/version.py:346: DeprecationWarning: distutils Version classes are deprecated. Use packaging.version instead.\n",
      "  other = LooseVersion(other)\n",
      "/Users/veochae/opt/anaconda3/envs/ANLY501/lib/python3.10/site-packages/setuptools/_distutils/version.py:346: DeprecationWarning: distutils Version classes are deprecated. Use packaging.version instead.\n",
      "  other = LooseVersion(other)\n",
      "/Users/veochae/opt/anaconda3/envs/ANLY501/lib/python3.10/site-packages/setuptools/_distutils/version.py:346: DeprecationWarning: distutils Version classes are deprecated. Use packaging.version instead.\n",
      "  other = LooseVersion(other)\n",
      "/Users/veochae/opt/anaconda3/envs/ANLY501/lib/python3.10/site-packages/setuptools/_distutils/version.py:346: DeprecationWarning: distutils Version classes are deprecated. Use packaging.version instead.\n",
      "  other = LooseVersion(other)\n",
      "/Users/veochae/opt/anaconda3/envs/ANLY501/lib/python3.10/site-packages/joblib/backports.py:36: DeprecationWarning: distutils Version classes are deprecated. Use packaging.version instead.\n",
      "  if LooseVersion(np.__version__) < '1.13':\n",
      "/Users/veochae/opt/anaconda3/envs/ANLY501/lib/python3.10/site-packages/joblib/backports.py:36: DeprecationWarning: distutils Version classes are deprecated. Use packaging.version instead.\n",
      "  if LooseVersion(np.__version__) < '1.13':\n",
      "/Users/veochae/opt/anaconda3/envs/ANLY501/lib/python3.10/site-packages/setuptools/_distutils/version.py:346: DeprecationWarning: distutils Version classes are deprecated. Use packaging.version instead.\n",
      "  other = LooseVersion(other)\n",
      "/Users/veochae/opt/anaconda3/envs/ANLY501/lib/python3.10/site-packages/setuptools/_distutils/version.py:346: DeprecationWarning: distutils Version classes are deprecated. Use packaging.version instead.\n",
      "  other = LooseVersion(other)\n",
      "/Users/veochae/opt/anaconda3/envs/ANLY501/lib/python3.10/site-packages/joblib/backports.py:36: DeprecationWarning: distutils Version classes are deprecated. Use packaging.version instead.\n",
      "  if LooseVersion(np.__version__) < '1.13':\n",
      "/Users/veochae/opt/anaconda3/envs/ANLY501/lib/python3.10/site-packages/setuptools/_distutils/version.py:346: DeprecationWarning: distutils Version classes are deprecated. Use packaging.version instead.\n",
      "  other = LooseVersion(other)\n",
      "/Users/veochae/opt/anaconda3/envs/ANLY501/lib/python3.10/site-packages/joblib/backports.py:36: DeprecationWarning: distutils Version classes are deprecated. Use packaging.version instead.\n",
      "  if LooseVersion(np.__version__) < '1.13':\n",
      "/Users/veochae/opt/anaconda3/envs/ANLY501/lib/python3.10/site-packages/joblib/backports.py:36: DeprecationWarning: distutils Version classes are deprecated. Use packaging.version instead.\n",
      "  if LooseVersion(np.__version__) < '1.13':\n",
      "/Users/veochae/opt/anaconda3/envs/ANLY501/lib/python3.10/site-packages/setuptools/_distutils/version.py:346: DeprecationWarning: distutils Version classes are deprecated. Use packaging.version instead.\n",
      "  other = LooseVersion(other)\n",
      "/Users/veochae/opt/anaconda3/envs/ANLY501/lib/python3.10/site-packages/setuptools/_distutils/version.py:346: DeprecationWarning: distutils Version classes are deprecated. Use packaging.version instead.\n",
      "  other = LooseVersion(other)\n",
      "/Users/veochae/opt/anaconda3/envs/ANLY501/lib/python3.10/site-packages/joblib/backports.py:36: DeprecationWarning: distutils Version classes are deprecated. Use packaging.version instead.\n",
      "  if LooseVersion(np.__version__) < '1.13':\n",
      "/Users/veochae/opt/anaconda3/envs/ANLY501/lib/python3.10/site-packages/setuptools/_distutils/version.py:346: DeprecationWarning: distutils Version classes are deprecated. Use packaging.version instead.\n",
      "  other = LooseVersion(other)\n",
      "/Users/veochae/opt/anaconda3/envs/ANLY501/lib/python3.10/site-packages/joblib/backports.py:36: DeprecationWarning: distutils Version classes are deprecated. Use packaging.version instead.\n",
      "  if LooseVersion(np.__version__) < '1.13':\n",
      "/Users/veochae/opt/anaconda3/envs/ANLY501/lib/python3.10/site-packages/setuptools/_distutils/version.py:346: DeprecationWarning: distutils Version classes are deprecated. Use packaging.version instead.\n",
      "  other = LooseVersion(other)\n",
      "/Users/veochae/opt/anaconda3/envs/ANLY501/lib/python3.10/site-packages/joblib/backports.py:36: DeprecationWarning: distutils Version classes are deprecated. Use packaging.version instead.\n",
      "  if LooseVersion(np.__version__) < '1.13':\n",
      "/Users/veochae/opt/anaconda3/envs/ANLY501/lib/python3.10/site-packages/setuptools/_distutils/version.py:346: DeprecationWarning: distutils Version classes are deprecated. Use packaging.version instead.\n",
      "  other = LooseVersion(other)\n",
      "/Users/veochae/opt/anaconda3/envs/ANLY501/lib/python3.10/site-packages/joblib/backports.py:36: DeprecationWarning: distutils Version classes are deprecated. Use packaging.version instead.\n",
      "  if LooseVersion(np.__version__) < '1.13':\n",
      "/Users/veochae/opt/anaconda3/envs/ANLY501/lib/python3.10/site-packages/setuptools/_distutils/version.py:346: DeprecationWarning: distutils Version classes are deprecated. Use packaging.version instead.\n",
      "  other = LooseVersion(other)\n",
      "/Users/veochae/opt/anaconda3/envs/ANLY501/lib/python3.10/site-packages/joblib/backports.py:36: DeprecationWarning: distutils Version classes are deprecated. Use packaging.version instead.\n",
      "  if LooseVersion(np.__version__) < '1.13':\n",
      "/Users/veochae/opt/anaconda3/envs/ANLY501/lib/python3.10/site-packages/setuptools/_distutils/version.py:346: DeprecationWarning: distutils Version classes are deprecated. Use packaging.version instead.\n",
      "  other = LooseVersion(other)\n",
      "/Users/veochae/opt/anaconda3/envs/ANLY501/lib/python3.10/site-packages/joblib/backports.py:36: DeprecationWarning: distutils Version classes are deprecated. Use packaging.version instead.\n",
      "  if LooseVersion(np.__version__) < '1.13':\n",
      "/Users/veochae/opt/anaconda3/envs/ANLY501/lib/python3.10/site-packages/setuptools/_distutils/version.py:346: DeprecationWarning: distutils Version classes are deprecated. Use packaging.version instead.\n",
      "  other = LooseVersion(other)\n",
      "/Users/veochae/opt/anaconda3/envs/ANLY501/lib/python3.10/site-packages/joblib/backports.py:36: DeprecationWarning: distutils Version classes are deprecated. Use packaging.version instead.\n",
      "  if LooseVersion(np.__version__) < '1.13':\n",
      "/Users/veochae/opt/anaconda3/envs/ANLY501/lib/python3.10/site-packages/setuptools/_distutils/version.py:346: DeprecationWarning: distutils Version classes are deprecated. Use packaging.version instead.\n",
      "  other = LooseVersion(other)\n",
      "/Users/veochae/opt/anaconda3/envs/ANLY501/lib/python3.10/site-packages/joblib/backports.py:36: DeprecationWarning: distutils Version classes are deprecated. Use packaging.version instead.\n",
      "  if LooseVersion(np.__version__) < '1.13':\n",
      "/Users/veochae/opt/anaconda3/envs/ANLY501/lib/python3.10/site-packages/setuptools/_distutils/version.py:346: DeprecationWarning: distutils Version classes are deprecated. Use packaging.version instead.\n",
      "  other = LooseVersion(other)\n",
      "/Users/veochae/opt/anaconda3/envs/ANLY501/lib/python3.10/site-packages/joblib/backports.py:36: DeprecationWarning: distutils Version classes are deprecated. Use packaging.version instead.\n",
      "  if LooseVersion(np.__version__) < '1.13':\n",
      "/Users/veochae/opt/anaconda3/envs/ANLY501/lib/python3.10/site-packages/setuptools/_distutils/version.py:346: DeprecationWarning: distutils Version classes are deprecated. Use packaging.version instead.\n",
      "  other = LooseVersion(other)\n",
      "/Users/veochae/opt/anaconda3/envs/ANLY501/lib/python3.10/site-packages/joblib/backports.py:36: DeprecationWarning: distutils Version classes are deprecated. Use packaging.version instead.\n",
      "  if LooseVersion(np.__version__) < '1.13':\n",
      "/Users/veochae/opt/anaconda3/envs/ANLY501/lib/python3.10/site-packages/setuptools/_distutils/version.py:346: DeprecationWarning: distutils Version classes are deprecated. Use packaging.version instead.\n",
      "  other = LooseVersion(other)\n",
      "/Users/veochae/opt/anaconda3/envs/ANLY501/lib/python3.10/site-packages/joblib/backports.py:36: DeprecationWarning: distutils Version classes are deprecated. Use packaging.version instead.\n",
      "  if LooseVersion(np.__version__) < '1.13':\n",
      "/Users/veochae/opt/anaconda3/envs/ANLY501/lib/python3.10/site-packages/setuptools/_distutils/version.py:346: DeprecationWarning: distutils Version classes are deprecated. Use packaging.version instead.\n",
      "  other = LooseVersion(other)\n",
      "/Users/veochae/opt/anaconda3/envs/ANLY501/lib/python3.10/site-packages/joblib/backports.py:36: DeprecationWarning: distutils Version classes are deprecated. Use packaging.version instead.\n",
      "  if LooseVersion(np.__version__) < '1.13':\n",
      "/Users/veochae/opt/anaconda3/envs/ANLY501/lib/python3.10/site-packages/setuptools/_distutils/version.py:346: DeprecationWarning: distutils Version classes are deprecated. Use packaging.version instead.\n",
      "  other = LooseVersion(other)\n"
     ]
    }
   ],
   "source": [
    "pyLDAvis.enable_notebook()\n",
    "vis = pyLDAvis.gensim.prepare(lda_model, corpus, id2word,  mds='mmds')"
   ]
  },
  {
   "cell_type": "code",
   "execution_count": 31,
   "metadata": {},
   "outputs": [
    {
     "name": "stdout",
     "output_type": "stream",
     "text": [
      "Serving to http://127.0.0.1:8888/    [Ctrl-C to exit]\n"
     ]
    },
    {
     "name": "stderr",
     "output_type": "stream",
     "text": [
      "127.0.0.1 - - [27/Apr/2023 01:50:20] \"GET / HTTP/1.1\" 200 -\n"
     ]
    },
    {
     "name": "stdout",
     "output_type": "stream",
     "text": [
      "\n",
      "stopping Server...\n"
     ]
    }
   ],
   "source": [
    "pyLDAvis.show(vis, local=False)"
   ]
  }
 ],
 "metadata": {
  "kernelspec": {
   "display_name": "ANLY501",
   "language": "python",
   "name": "python3"
  },
  "language_info": {
   "codemirror_mode": {
    "name": "ipython",
    "version": 3
   },
   "file_extension": ".py",
   "mimetype": "text/x-python",
   "name": "python",
   "nbconvert_exporter": "python",
   "pygments_lexer": "ipython3",
   "version": "3.10.4"
  },
  "orig_nbformat": 4
 },
 "nbformat": 4,
 "nbformat_minor": 2
}
