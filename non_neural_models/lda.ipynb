{
 "cells": [
  {
   "attachments": {},
   "cell_type": "markdown",
   "metadata": {},
   "source": [
    "# Linear Discriminant Analysis (LDA) TOPIC MODELING"
   ]
  },
  {
   "cell_type": "code",
   "execution_count": 1,
   "metadata": {},
   "outputs": [],
   "source": [
    "#import packages\n",
    "import pandas as pd\n",
    "from ast import literal_eval\n",
    "from pprint import pprint\n",
    "import matplotlib.pyplot as plt\n",
    "\n",
    "#gensim\n",
    "import gensim\n",
    "from gensim.utils import simple_preprocess\n",
    "import gensim.corpora as corpora\n",
    "from gensim.models.coherencemodel import CoherenceModel\n",
    "\n",
    "#ldavis\n",
    "import pyLDAvis.gensim\n",
    "import pyLDAvis"
   ]
  },
  {
   "cell_type": "code",
   "execution_count": 2,
   "metadata": {},
   "outputs": [],
   "source": [
    "#import lemmatized data\n",
    "token = pd.read_csv(\"../data/cleaned data/lemmatized.csv\",converters={\"lemmatized\": literal_eval})\n",
    "\n",
    "#put the lemmatized dreams into list\n",
    "tokenized = [li for li in token['lemmatized']]"
   ]
  },
  {
   "cell_type": "code",
   "execution_count": 3,
   "metadata": {},
   "outputs": [],
   "source": [
    "# Create Dictionary\n",
    "id2word = corpora.Dictionary(tokenized)\n",
    "\n",
    "# Create Corpus\n",
    "texts = tokenized\n",
    "\n",
    "# Term Document Frequency\n",
    "corpus = [id2word.doc2bow(text) for text in texts]"
   ]
  },
  {
   "cell_type": "code",
   "execution_count": 4,
   "metadata": {},
   "outputs": [],
   "source": [
    "# # number of topics\n",
    "# coherence = []\n",
    "\n",
    "\n",
    "# for topic in range(3,30):\n",
    "#     # Build LDA model\n",
    "#     lda_model = gensim.models.ldamodel.LdaModel(corpus=corpus,\n",
    "#                                                 id2word=id2word,\n",
    "#                                                 num_topics=topic, \n",
    "#                                                 random_state=100,\n",
    "#                                                 update_every=1,\n",
    "#                                                 chunksize=10,\n",
    "#                                                 passes=2,\n",
    "#                                                 alpha='auto',\n",
    "#                                                 per_word_topics=True)\n",
    "\n",
    "#     cm = gensim.models.coherencemodel.CoherenceModel(\n",
    "#                                                     model=lda_model, \n",
    "#                                                     corpus = corpus, \n",
    "#                                                     coherence='u_mass')  \n",
    "    \n",
    "#     coherence.append(cm.get_coherence())\n",
    "#     print(f\"Model with Topic Count {topic} complete\")\n",
    "\n",
    "# # Print the Keyword in the 10 topics\n",
    "# # pprint(lda_model.print_topics())"
   ]
  },
  {
   "cell_type": "code",
   "execution_count": 5,
   "metadata": {},
   "outputs": [
    {
     "ename": "NameError",
     "evalue": "name 'coherence' is not defined",
     "output_type": "error",
     "traceback": [
      "\u001b[1;31m---------------------------------------------------------------------------\u001b[0m",
      "\u001b[1;31mNameError\u001b[0m                                 Traceback (most recent call last)",
      "Cell \u001b[1;32mIn[5], line 1\u001b[0m\n\u001b[1;32m----> 1\u001b[0m plt\u001b[39m.\u001b[39mplot(\u001b[39mrange\u001b[39m(\u001b[39m3\u001b[39m,\u001b[39m30\u001b[39m), coherence)\n",
      "\u001b[1;31mNameError\u001b[0m: name 'coherence' is not defined"
     ]
    }
   ],
   "source": [
    "# plt.plot(range(3,30), coherence)"
   ]
  },
  {
   "cell_type": "code",
   "execution_count": null,
   "metadata": {},
   "outputs": [],
   "source": [
    "#UMASS coherence score explained\n",
    "#http://qpleple.com/topic-coherence-to-evaluate-topic-models/"
   ]
  },
  {
   "cell_type": "code",
   "execution_count": 6,
   "metadata": {},
   "outputs": [
    {
     "name": "stderr",
     "output_type": "stream",
     "text": [
      "c:\\Users\\Graduate\\miniconda3\\lib\\site-packages\\sklearn\\manifold\\_mds.py:299: FutureWarning: The default value of `normalized_stress` will change to `'auto'` in version 1.4. To suppress this warning, manually set the value of `normalized_stress`.\n",
      "  warnings.warn(\n"
     ]
    }
   ],
   "source": [
    "lda_model = gensim.models.ldamodel.LdaModel(corpus=corpus,\n",
    "                                            id2word=id2word,\n",
    "                                            num_topics=8, \n",
    "                                            random_state=100,\n",
    "                                            update_every=1,\n",
    "                                            chunksize=10,\n",
    "                                            passes=2,\n",
    "                                            alpha='auto',                                                \n",
    "                                            per_word_topics=True)\n",
    "\n",
    "pyLDAvis.enable_notebook()\n",
    "vis = pyLDAvis.gensim.prepare(lda_model, corpus, id2word,  mds='mmds')"
   ]
  },
  {
   "cell_type": "code",
   "execution_count": 7,
   "metadata": {},
   "outputs": [
    {
     "name": "stdout",
     "output_type": "stream",
     "text": [
      "Serving to http://127.0.0.1:8888/    [Ctrl-C to exit]\n"
     ]
    },
    {
     "name": "stderr",
     "output_type": "stream",
     "text": [
      "127.0.0.1 - - [10/May/2023 11:44:34] \"GET / HTTP/1.1\" 200 -\n",
      "----------------------------------------\n",
      "Exception occurred during processing of request from ('127.0.0.1', 53614)\n",
      "Traceback (most recent call last):\n",
      "  File \"c:\\Users\\Graduate\\miniconda3\\lib\\socketserver.py\", line 316, in _handle_request_noblock\n",
      "    self.process_request(request, client_address)\n",
      "  File \"c:\\Users\\Graduate\\miniconda3\\lib\\socketserver.py\", line 347, in process_request\n",
      "    self.finish_request(request, client_address)\n",
      "  File \"c:\\Users\\Graduate\\miniconda3\\lib\\socketserver.py\", line 360, in finish_request\n",
      "    self.RequestHandlerClass(request, client_address, self)\n",
      "  File \"c:\\Users\\Graduate\\miniconda3\\lib\\socketserver.py\", line 747, in __init__\n",
      "    self.handle()\n",
      "  File \"c:\\Users\\Graduate\\miniconda3\\lib\\http\\server.py\", line 432, in handle\n",
      "    self.handle_one_request()\n",
      "  File \"c:\\Users\\Graduate\\miniconda3\\lib\\http\\server.py\", line 420, in handle_one_request\n",
      "    method()\n",
      "  File \"C:\\Users\\Graduate\\AppData\\Roaming\\Python\\Python310\\site-packages\\pyLDAvis\\_server.py\", line 34, in do_GET\n",
      "    self.wfile.write(\"<html><head>\"\n",
      "  File \"c:\\Users\\Graduate\\miniconda3\\lib\\socketserver.py\", line 826, in write\n",
      "    self._sock.sendall(b)\n",
      "ConnectionAbortedError: [WinError 10053] An established connection was aborted by the software in your host machine\n",
      "----------------------------------------\n",
      "127.0.0.1 - - [10/May/2023 11:44:34] \"GET / HTTP/1.1\" 200 -\n"
     ]
    },
    {
     "name": "stdout",
     "output_type": "stream",
     "text": [
      "\n",
      "stopping Server...\n"
     ]
    }
   ],
   "source": [
    "pyLDAvis.show(vis, local=False)"
   ]
  }
 ],
 "metadata": {
  "kernelspec": {
   "display_name": "ANLY501",
   "language": "python",
   "name": "python3"
  },
  "language_info": {
   "codemirror_mode": {
    "name": "ipython",
    "version": 3
   },
   "file_extension": ".py",
   "mimetype": "text/x-python",
   "name": "python",
   "nbconvert_exporter": "python",
   "pygments_lexer": "ipython3",
   "version": "3.10.8"
  },
  "orig_nbformat": 4
 },
 "nbformat": 4,
 "nbformat_minor": 2
}
