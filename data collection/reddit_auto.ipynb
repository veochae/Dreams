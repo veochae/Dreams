{
 "cells": [
  {
   "cell_type": "code",
   "execution_count": 30,
   "metadata": {},
   "outputs": [],
   "source": [
    "import requests\n",
    "import pandas as pd\n",
    "from datetime import datetime, date\n",
    "import time\n",
    "import warnings\n",
    "from pathlib import Path\n",
    "warnings.filterwarnings('ignore')\n",
    "import os"
   ]
  },
  {
   "cell_type": "code",
   "execution_count": 6,
   "metadata": {},
   "outputs": [],
   "source": [
    "client_id = 'kIeG3SQnyatTNzP2SKF_eg'\n",
    "secret_key = 'hnXPG4wASTbzxDwY9iW01HvG8_WrIg'\n",
    "\n",
    "auth = requests.auth.HTTPBasicAuth(client_id, secret_key)\n",
    "\n",
    "data = {\n",
    "    'grant_type': 'password',\n",
    "    'username': 'veochae',\n",
    "    'password': 'Hold5489!!'\n",
    "}\n",
    "\n",
    "headers = {'User-Agent': 'MyAPI/0.0.1'}\n",
    "\n",
    "res = requests.post('https://www.reddit.com/api/v1/access_token', \n",
    "                    auth = auth, \n",
    "                    data = data,\n",
    "                    headers = headers)\n",
    "\n",
    "token = res.json()['access_token']\n",
    "\n",
    "headers['Authorization'] = f'bearer {token}'"
   ]
  },
  {
   "cell_type": "code",
   "execution_count": 26,
   "metadata": {},
   "outputs": [],
   "source": [
    "def reddit_data(time_wanted):\n",
    "    stopper = 0\n",
    "\n",
    "    #initial set collection\n",
    "    res = requests.get('https://oauth.reddit.com/r/Dreams/new',\n",
    "                    headers = headers, params={'limit': '100'})\n",
    "    \n",
    "    df = pd.DataFrame()\n",
    "\n",
    "    for post in res.json()['data']['children']:\n",
    "        df = df.append({\n",
    "            'subreddit': post['data']['subreddit'],\n",
    "            'title': post['data']['title'],\n",
    "            'text': post['data']['selftext'],\n",
    "            'date': post['data']['created']\n",
    "        }, ignore_index = True)\n",
    "    \n",
    "    #further back collection\n",
    "    latest_key = post['kind'] + '_' + post['data']['id']\n",
    "\n",
    "    while df.tail(1)['date'][df.tail(1)['date'].index[0]] > datetime.timestamp(time_wanted):\n",
    "        for req in range(100):\n",
    "        \n",
    "            res = requests.get('https://oauth.reddit.com/r/Dreams/new',\n",
    "                                headers = headers, \n",
    "                                params={'limit': '100', 'after': latest_key})\n",
    "            \n",
    "            for post in res.json()['data']['children']:\n",
    "                df = df.append({\n",
    "                    'subreddit': post['data']['subreddit'],\n",
    "                    'title': post['data']['title'],\n",
    "                    'text': post['data']['selftext'],\n",
    "                    'date': post['data']['created']\n",
    "                }, ignore_index = True)\n",
    "\n",
    "            latest_key = post['kind'] + '_' + post['data']['id']\n",
    "                \n",
    "            print(f'{len(df)} rows collected')\n",
    "\n",
    "            if len(df) >= 988:\n",
    "                latest = df.tail(1)['date'][df.tail(1)['date'].index[0]]\n",
    "                print(\"Data Collection Target Reached\")\n",
    "                print(f'{len(df)} rows collected')\n",
    "                print(f'latest subreddit date: {datetime.fromtimestamp(latest)}')\n",
    "                return df\n",
    "\n",
    "            # time.sleep(5)\n",
    "    else: \n",
    "        print(\"Date Limit Reached\")\n",
    "        print(f'{len(df)} rows collected')\n",
    "        return df\n",
    "    "
   ]
  },
  {
   "cell_type": "code",
   "execution_count": 20,
   "metadata": {},
   "outputs": [
    {
     "name": "stdout",
     "output_type": "stream",
     "text": [
      "200 rows collected\n",
      "300 rows collected\n",
      "400 rows collected\n",
      "500 rows collected\n",
      "600 rows collected\n",
      "700 rows collected\n",
      "800 rows collected\n",
      "900 rows collected\n",
      "988 rows collected\n",
      "Data Collection Target Reached\n",
      "988 rows collected\n"
     ]
    }
   ],
   "source": [
    "df = reddit_data(datetime(2023, 1, 20, 00, 00, 00, 342380))"
   ]
  },
  {
   "cell_type": "code",
   "execution_count": 31,
   "metadata": {},
   "outputs": [
    {
     "name": "stdout",
     "output_type": "stream",
     "text": [
      "/Users/veochae/Desktop/Dreams/data\n"
     ]
    }
   ],
   "source": [
    "print(Path.cwd())\n",
    "os.chdir('../data')"
   ]
  },
  {
   "cell_type": "code",
   "execution_count": null,
   "metadata": {},
   "outputs": [],
   "source": [
    "df= df.dropna()\n",
    "df.to_csv(\"./raw_data.csv\")"
   ]
  }
 ],
 "metadata": {
  "kernelspec": {
   "display_name": "Python 3.10.4 ('ANLY501')",
   "language": "python",
   "name": "python3"
  },
  "language_info": {
   "codemirror_mode": {
    "name": "ipython",
    "version": 3
   },
   "file_extension": ".py",
   "mimetype": "text/x-python",
   "name": "python",
   "nbconvert_exporter": "python",
   "pygments_lexer": "ipython3",
   "version": "3.10.4"
  },
  "orig_nbformat": 4,
  "vscode": {
   "interpreter": {
    "hash": "0e871aec5cdce359f50730c2f4a4c8102d3246dd2d9815cdf4f3c7213e8de692"
   }
  }
 },
 "nbformat": 4,
 "nbformat_minor": 2
}
